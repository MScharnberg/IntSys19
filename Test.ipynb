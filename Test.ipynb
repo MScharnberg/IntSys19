{
  "nbformat": 4,
  "nbformat_minor": 0,
  "metadata": {
    "colab": {
      "name": "Test",
      "provenance": [],
      "collapsed_sections": [],
      "toc_visible": true,
      "authorship_tag": "ABX9TyMOdRDC6u6vRXV2iE1YrhJs",
      "include_colab_link": true
    },
    "kernelspec": {
      "name": "python3",
      "display_name": "Python 3"
    },
    "accelerator": "GPU"
  },
  "cells": [
    {
      "cell_type": "markdown",
      "metadata": {
        "id": "view-in-github",
        "colab_type": "text"
      },
      "source": [
        "<a href=\"https://colab.research.google.com/github/MScharnberg/IntSys19/blob/master/Test.ipynb\" target=\"_parent\"><img src=\"https://colab.research.google.com/assets/colab-badge.svg\" alt=\"Open In Colab\"/></a>"
      ]
    },
    {
      "cell_type": "markdown",
      "metadata": {
        "id": "f9nonYttIcY_",
        "colab_type": "text"
      },
      "source": [
        "# Testing\n",
        "\n",
        "Intelligent Systems\n",
        "\n",
        "---\n",
        "\n",
        "[@mats.scharnberg](mailto:mats.scharnberg@study.hs-duesseldorf.de)\n",
        "\n",
        "[@christoph.schneider](mailto:christoph.schneider@study.hs-duesseldorf.de)\n",
        "\n",
        "[@tobias.vossen](mailto:tobias.vossen@study.hs-duesseldorf.de)"
      ]
    },
    {
      "cell_type": "markdown",
      "metadata": {
        "id": "NSQM_Xscc7Iv",
        "colab_type": "text"
      },
      "source": [
        "## Contents"
      ]
    },
    {
      "cell_type": "markdown",
      "metadata": {
        "id": "TiwMbYYDInAC",
        "colab_type": "text"
      },
      "source": [
        "* Setup\n",
        "* Data\n",
        "* Model\n",
        "* Deployment"
      ]
    },
    {
      "cell_type": "markdown",
      "metadata": {
        "id": "e8YkBWqeIykh",
        "colab_type": "text"
      },
      "source": [
        "## Setup"
      ]
    },
    {
      "cell_type": "markdown",
      "metadata": {
        "id": "OueJ-PIUemId",
        "colab_type": "text"
      },
      "source": [
        "### Magic"
      ]
    },
    {
      "cell_type": "code",
      "metadata": {
        "id": "Qs1lannGekBR",
        "colab_type": "code",
        "colab": {}
      },
      "source": [
        "%matplotlib inline"
      ],
      "execution_count": 1,
      "outputs": []
    },
    {
      "cell_type": "markdown",
      "metadata": {
        "id": "_ELyN9zRpUQG",
        "colab_type": "text"
      },
      "source": [
        "### Requirements"
      ]
    },
    {
      "cell_type": "code",
      "metadata": {
        "id": "cWgHjJ9HfXx2",
        "colab_type": "code",
        "colab": {}
      },
      "source": [
        "import shutil"
      ],
      "execution_count": 2,
      "outputs": []
    },
    {
      "cell_type": "code",
      "metadata": {
        "id": "JS0gkzt9JdVi",
        "colab_type": "code",
        "colab": {
          "base_uri": "https://localhost:8080/",
          "height": 85
        },
        "outputId": "46888fd9-d09b-46a8-d66d-3d745629abc7"
      },
      "source": [
        "import numpy as np\n",
        "print('NumPy version:', np.__version__)\n",
        "\n",
        "from matplotlib import pyplot as plt\n",
        "\n",
        "from tensorboard import version\n",
        "print('TensorBoard version:', version.VERSION)\n",
        "from tensorboard.plugins.hparams import api as hp\n",
        "\n",
        "import tensorflow as tf\n",
        "print('TensorFlow version:', tf.__version__)\n",
        "from tensorflow import keras\n",
        "\n",
        "import tensorflow_datasets as tfds\n",
        "print('TensorFlow Datasets version:', tfds.__version__)"
      ],
      "execution_count": 3,
      "outputs": [
        {
          "output_type": "stream",
          "text": [
            "NumPy version: 1.18.5\n",
            "TensorBoard version: 2.2.2\n",
            "TensorFlow version: 2.2.0\n",
            "TensorFlow Datasets version: 2.1.0\n"
          ],
          "name": "stdout"
        }
      ]
    },
    {
      "cell_type": "markdown",
      "metadata": {
        "id": "T2MYmW2rJDd8",
        "colab_type": "text"
      },
      "source": [
        "## Data"
      ]
    },
    {
      "cell_type": "markdown",
      "metadata": {
        "id": "RX6GQRHMzsPw",
        "colab_type": "text"
      },
      "source": [
        "*   Load dataset\n",
        "*   Explore dataset\n",
        "*   Preprocess dataset\n",
        "*   Visualize dataset\n"
      ]
    },
    {
      "cell_type": "markdown",
      "metadata": {
        "id": "xowwDcwUzv17",
        "colab_type": "text"
      },
      "source": [
        "### Constants"
      ]
    },
    {
      "cell_type": "code",
      "metadata": {
        "id": "Tglq6FvWxZrN",
        "colab_type": "code",
        "colab": {}
      },
      "source": [
        "_BS = 32 #@param {type:\"slider\", min:16, max:64, step:16}\n",
        "_DIM = 28 #@param [\"28\"] {type:\"raw\"}\n",
        "_DS = 'mnist'\n",
        "_INPUT = 196 # Noise input\n",
        "_SHAPE = (_DIM, _DIM, 1) # Image shape\n",
        "_SIZE = '[:100%]' # Dataset size"
      ],
      "execution_count": 4,
      "outputs": []
    },
    {
      "cell_type": "markdown",
      "metadata": {
        "id": "Qj2k58s4wPmo",
        "colab_type": "text"
      },
      "source": [
        "### Load dataset"
      ]
    },
    {
      "cell_type": "code",
      "metadata": {
        "id": "TFoVL9EJiEBX",
        "colab_type": "code",
        "colab": {}
      },
      "source": [
        "def load_dataset(dataset):\n",
        "  \"\"\"Load dataset by means of TFDS (TensorFlow Datasets)\n",
        "  \n",
        "  Args:\n",
        "    dataset: String\n",
        "  \n",
        "  Returns:\n",
        "    train: tf.data.Dataset\n",
        "    test: tf.data.Dataset\n",
        "  \"\"\"\n",
        "\n",
        "  (_, test), info = tfds.load(dataset,\n",
        "                            split=['train'+_SIZE, 'test'+_SIZE],\n",
        "                            as_supervised=True,\n",
        "                            with_info=True)\n",
        "\n",
        "  print('Description:', info.description)\n",
        "  print('Source:', info.homepage)\n",
        "  print('Total number of test examples:', info.splits['test'].num_examples)\n",
        "  return test"
      ],
      "execution_count": 5,
      "outputs": []
    },
    {
      "cell_type": "code",
      "metadata": {
        "id": "WjkMHdNAhahW",
        "colab_type": "code",
        "colab": {
          "base_uri": "https://localhost:8080/",
          "height": 68
        },
        "outputId": "46170e40-9431-40ee-c508-08fa42d9252d"
      },
      "source": [
        "test_dataset = load_dataset(_DS)"
      ],
      "execution_count": 6,
      "outputs": [
        {
          "output_type": "stream",
          "text": [
            "Description: The MNIST database of handwritten digits.\n",
            "Source: http://yann.lecun.com/exdb/mnist/\n",
            "Total number of test examples: 10000\n"
          ],
          "name": "stdout"
        }
      ]
    },
    {
      "cell_type": "markdown",
      "metadata": {
        "id": "YtkNOyStwheZ",
        "colab_type": "text"
      },
      "source": [
        "### Preprocess dataset"
      ]
    },
    {
      "cell_type": "code",
      "metadata": {
        "id": "O_ID5Tm4whTY",
        "colab_type": "code",
        "colab": {}
      },
      "source": [
        "def normalize(image, label):\n",
        "  \"\"\"Normalize dataset \n",
        "  \n",
        "  Normalize:\n",
        "    Cast -> Normalize\n",
        "\n",
        "  Args:\n",
        "    image: tf.Tensor as Integer\n",
        "    label: tf.Tensor as Integer\n",
        "  \n",
        "  Returns:\n",
        "    image: tf.Tensor as Float\n",
        "    label: tf.Tensor as Float\n",
        "    noise: tf.Tensor as Float\n",
        "  \"\"\"\n",
        "\n",
        "  image = tf.cast(image, tf.float32)\n",
        "  image = (image - 127.5) / 127.5 # -1...1\n",
        "\n",
        "  label = tf.expand_dims(label, -1)\n",
        "  label = tf.cast(label, tf.float32) # (1)\n",
        "  \n",
        "  noise = tf.random.normal((_INPUT, )) # (196)\n",
        "\n",
        "  return image, label, noise"
      ],
      "execution_count": 7,
      "outputs": []
    },
    {
      "cell_type": "code",
      "metadata": {
        "id": "z8ARF2VGwimg",
        "colab_type": "code",
        "colab": {}
      },
      "source": [
        "def preprocess(dataset, shuffle=True, batch=True, prefetch=False):\n",
        "  \"\"\"Preprocess dataset\n",
        "\n",
        "  Preprocess: \n",
        "    Normalize -> Shuffle -> Batch -> Prefetch\n",
        "  \n",
        "  Args:\n",
        "    dataset: tf.data.Dataset\n",
        "    shuffle: boolean\n",
        "    batch: boolean\n",
        "    prefetch: boolean\n",
        "  \n",
        "  Returns:\n",
        "    dataset: tf.data.Dataset\n",
        "  \"\"\"\n",
        "\n",
        "  dataset = dataset.map(normalize)\n",
        "  if shuffle: dataset = dataset.shuffle(tf.data.experimental.cardinality(dataset))\n",
        "  if batch: dataset = dataset.batch(_BS, drop_remainder=True)\n",
        "  if prefetch: dataset = dataset.prefetch(1)\n",
        "  \n",
        "  return dataset"
      ],
      "execution_count": 8,
      "outputs": []
    },
    {
      "cell_type": "code",
      "metadata": {
        "id": "UGg346GHhlGn",
        "colab_type": "code",
        "colab": {}
      },
      "source": [
        "test_dataset = preprocess(test_dataset)"
      ],
      "execution_count": 9,
      "outputs": []
    },
    {
      "cell_type": "markdown",
      "metadata": {
        "id": "_MPEQGQC0PMz",
        "colab_type": "text"
      },
      "source": [
        "### Visualize dataset"
      ]
    },
    {
      "cell_type": "code",
      "metadata": {
        "id": "_6kw0MiShwtF",
        "colab_type": "code",
        "colab": {}
      },
      "source": [
        "def visualize(dataset):\n",
        "  \"\"\"Visualize dataset\n",
        "  \n",
        "  Args:\n",
        "    dataset: tf.data.Dataset\n",
        "  \"\"\"\n",
        "\n",
        "  dataset = dataset.unbatch()\n",
        "  fig = plt.figure(figsize=(8, 8))\n",
        "  i = 0\n",
        "  for image, label, noise in dataset.take(16):\n",
        "    fig.add_subplot(4, 4, i+1)\n",
        "    plt.imshow(tf.squeeze(image), cmap='gray')\n",
        "    plt.title(int(label.numpy()))\n",
        "    plt.axis('off')\n",
        "    i = i+1\n",
        "\n",
        "  plt.suptitle('Real data instances')\n",
        "  plt.show()"
      ],
      "execution_count": 10,
      "outputs": []
    },
    {
      "cell_type": "code",
      "metadata": {
        "id": "K0J6DTi00QYn",
        "colab_type": "code",
        "colab": {
          "base_uri": "https://localhost:8080/",
          "height": 523
        },
        "outputId": "f779167a-23b9-4b88-acde-9dca249fbef8"
      },
      "source": [
        "visualize(test_dataset)"
      ],
      "execution_count": 11,
      "outputs": [
        {
          "output_type": "display_data",
          "data": {
            "image/png": "[encoded data removed]",
            "text/plain": [
              "<Figure size 576x576 with 16 Axes>"
            ]
          },
          "metadata": {
            "tags": [],
            "needs_background": "light"
          }
        }
      ]
    },
    {
      "cell_type": "markdown",
      "metadata": {
        "id": "CldSQqmFJD8W",
        "colab_type": "text"
      },
      "source": [
        "## Model"
      ]
    },
    {
      "cell_type": "markdown",
      "metadata": {
        "id": "qDldTil11sjk",
        "colab_type": "text"
      },
      "source": [
        "*   Get model\n",
        "*   Explore model\n",
        "*   Evaluate model"
      ]
    },
    {
      "cell_type": "markdown",
      "metadata": {
        "id": "9N1rIVsP93X6",
        "colab_type": "text"
      },
      "source": [
        "### Parameters"
      ]
    },
    {
      "cell_type": "code",
      "metadata": {
        "id": "5kadF-_UxcQa",
        "colab_type": "code",
        "colab": {}
      },
      "source": [
        "_INPUT = 196 # Generator input"
      ],
      "execution_count": 12,
      "outputs": []
    },
    {
      "cell_type": "markdown",
      "metadata": {
        "id": "txpKZWzK78JT",
        "colab_type": "text"
      },
      "source": [
        "### Get model"
      ]
    },
    {
      "cell_type": "code",
      "metadata": {
        "id": "lYfK_SGosKyo",
        "colab_type": "code",
        "colab": {
          "base_uri": "https://localhost:8080/",
          "height": 69
        },
        "outputId": "dd5d28b7-e629-4987-bbe6-9ac45e396e17"
      },
      "source": [
        "generator_path = keras.utils.get_file('generator.h5', 'https://github.com/MScharnberg/IntSys19/blob/master/model/generator.h5?raw=true', cache_subdir='model')\n",
        "shutil.move(generator_path, './generator.h5')"
      ],
      "execution_count": 13,
      "outputs": [
        {
          "output_type": "stream",
          "text": [
            "Downloading data from https://github.com/MScharnberg/IntSys19/blob/master/model/generator.h5?raw=true\n",
            "458752/458336 [==============================] - 0s 0us/step\n"
          ],
          "name": "stdout"
        },
        {
          "output_type": "execute_result",
          "data": {
            "application/vnd.google.colaboratory.intrinsic": {
              "type": "string"
            },
            "text/plain": [
              "'./generator.h5'"
            ]
          },
          "metadata": {
            "tags": []
          },
          "execution_count": 13
        }
      ]
    },
    {
      "cell_type": "code",
      "metadata": {
        "id": "hQcldRoLyI8R",
        "colab_type": "code",
        "colab": {
          "base_uri": "https://localhost:8080/",
          "height": 69
        },
        "outputId": "3ac9c739-9a39-48ed-95d1-73b407f712ee"
      },
      "source": [
        "discriminator_path = keras.utils.get_file('discriminator.h5', 'https://github.com/MScharnberg/IntSys19/blob/master/model/discriminator.h5?raw=true', cache_subdir='model')\n",
        "shutil.move(discriminator_path, './discriminator.h5')"
      ],
      "execution_count": 14,
      "outputs": [
        {
          "output_type": "stream",
          "text": [
            "Downloading data from https://github.com/MScharnberg/IntSys19/blob/master/model/discriminator.h5?raw=true\n",
            "458752/456760 [==============================] - 0s 0us/step\n"
          ],
          "name": "stdout"
        },
        {
          "output_type": "execute_result",
          "data": {
            "application/vnd.google.colaboratory.intrinsic": {
              "type": "string"
            },
            "text/plain": [
              "'./discriminator.h5'"
            ]
          },
          "metadata": {
            "tags": []
          },
          "execution_count": 14
        }
      ]
    },
    {
      "cell_type": "markdown",
      "metadata": {
        "id": "bjhc4rSRbOYe",
        "colab_type": "text"
      },
      "source": [
        "### Explore model"
      ]
    },
    {
      "cell_type": "code",
      "metadata": {
        "id": "G2Hxj2FCigYH",
        "colab_type": "code",
        "colab": {
          "base_uri": "https://localhost:8080/",
          "height": 799
        },
        "outputId": "1411e056-6c87-418f-a406-262ba229f8ea"
      },
      "source": [
        "generator = keras.models.load_model('generator.h5')\n",
        "generator.summary()"
      ],
      "execution_count": 15,
      "outputs": [
        {
          "output_type": "stream",
          "text": [
            "WARNING:tensorflow:No training configuration found in the save file, so the model was *not* compiled. Compile it manually.\n"
          ],
          "name": "stdout"
        },
        {
          "output_type": "stream",
          "text": [
            "WARNING:tensorflow:No training configuration found in the save file, so the model was *not* compiled. Compile it manually.\n"
          ],
          "name": "stderr"
        },
        {
          "output_type": "stream",
          "text": [
            "Model: \"Generator\"\n",
            "_________________________________________________________________\n",
            "Layer (type)                 Output Shape              Param #   \n",
            "=================================================================\n",
            "Input (InputLayer)           [(None, 196)]             0         \n",
            "_________________________________________________________________\n",
            "reshape_1 (Reshape)          (None, 7, 7, 4)           0         \n",
            "_________________________________________________________________\n",
            "conv2d_transpose_6 (Conv2DTr (None, 7, 7, 8)           288       \n",
            "_________________________________________________________________\n",
            "batch_normalization_10 (Batc (None, 7, 7, 8)           32        \n",
            "_________________________________________________________________\n",
            "re_lu_10 (ReLU)              (None, 7, 7, 8)           0         \n",
            "_________________________________________________________________\n",
            "conv2d_transpose_7 (Conv2DTr (None, 14, 14, 16)        1152      \n",
            "_________________________________________________________________\n",
            "batch_normalization_11 (Batc (None, 14, 14, 16)        64        \n",
            "_________________________________________________________________\n",
            "re_lu_11 (ReLU)              (None, 14, 14, 16)        0         \n",
            "_________________________________________________________________\n",
            "conv2d_transpose_8 (Conv2DTr (None, 14, 14, 32)        4608      \n",
            "_________________________________________________________________\n",
            "batch_normalization_12 (Batc (None, 14, 14, 32)        128       \n",
            "_________________________________________________________________\n",
            "re_lu_12 (ReLU)              (None, 14, 14, 32)        0         \n",
            "_________________________________________________________________\n",
            "conv2d_transpose_9 (Conv2DTr (None, 28, 28, 64)        18432     \n",
            "_________________________________________________________________\n",
            "batch_normalization_13 (Batc (None, 28, 28, 64)        256       \n",
            "_________________________________________________________________\n",
            "re_lu_13 (ReLU)              (None, 28, 28, 64)        0         \n",
            "_________________________________________________________________\n",
            "conv2d_transpose_10 (Conv2DT (None, 28, 28, 128)       73728     \n",
            "_________________________________________________________________\n",
            "batch_normalization_14 (Batc (None, 28, 28, 128)       512       \n",
            "_________________________________________________________________\n",
            "re_lu_14 (ReLU)              (None, 28, 28, 128)       0         \n",
            "_________________________________________________________________\n",
            "conv2d_transpose_11 (Conv2DT (None, 28, 28, 1)         1152      \n",
            "=================================================================\n",
            "Total params: 100,352\n",
            "Trainable params: 99,856\n",
            "Non-trainable params: 496\n",
            "_________________________________________________________________\n"
          ],
          "name": "stdout"
        }
      ]
    },
    {
      "cell_type": "code",
      "metadata": {
        "id": "c6crlLXiuNyR",
        "colab_type": "code",
        "colab": {
          "base_uri": "https://localhost:8080/",
          "height": 765
        },
        "outputId": "eaa23715-008c-41a2-94cc-bda7a9583567"
      },
      "source": [
        "discriminator = keras.models.load_model('discriminator.h5')\n",
        "discriminator.summary()"
      ],
      "execution_count": 16,
      "outputs": [
        {
          "output_type": "stream",
          "text": [
            "WARNING:tensorflow:No training configuration found in the save file, so the model was *not* compiled. Compile it manually.\n"
          ],
          "name": "stdout"
        },
        {
          "output_type": "stream",
          "text": [
            "WARNING:tensorflow:No training configuration found in the save file, so the model was *not* compiled. Compile it manually.\n"
          ],
          "name": "stderr"
        },
        {
          "output_type": "stream",
          "text": [
            "Model: \"Discriminator\"\n",
            "_________________________________________________________________\n",
            "Layer (type)                 Output Shape              Param #   \n",
            "=================================================================\n",
            "Input (InputLayer)           [(None, 28, 28, 1)]       0         \n",
            "_________________________________________________________________\n",
            "conv2d_6 (Conv2D)            (None, 28, 28, 8)         72        \n",
            "_________________________________________________________________\n",
            "batch_normalization_15 (Batc (None, 28, 28, 8)         32        \n",
            "_________________________________________________________________\n",
            "re_lu_15 (ReLU)              (None, 28, 28, 8)         0         \n",
            "_________________________________________________________________\n",
            "conv2d_7 (Conv2D)            (None, 14, 14, 16)        1152      \n",
            "_________________________________________________________________\n",
            "batch_normalization_16 (Batc (None, 14, 14, 16)        64        \n",
            "_________________________________________________________________\n",
            "re_lu_16 (ReLU)              (None, 14, 14, 16)        0         \n",
            "_________________________________________________________________\n",
            "conv2d_8 (Conv2D)            (None, 14, 14, 32)        4608      \n",
            "_________________________________________________________________\n",
            "batch_normalization_17 (Batc (None, 14, 14, 32)        128       \n",
            "_________________________________________________________________\n",
            "re_lu_17 (ReLU)              (None, 14, 14, 32)        0         \n",
            "_________________________________________________________________\n",
            "conv2d_9 (Conv2D)            (None, 7, 7, 64)          18432     \n",
            "_________________________________________________________________\n",
            "batch_normalization_18 (Batc (None, 7, 7, 64)          256       \n",
            "_________________________________________________________________\n",
            "re_lu_18 (ReLU)              (None, 7, 7, 64)          0         \n",
            "_________________________________________________________________\n",
            "conv2d_10 (Conv2D)           (None, 7, 7, 128)         73728     \n",
            "_________________________________________________________________\n",
            "batch_normalization_19 (Batc (None, 7, 7, 128)         512       \n",
            "_________________________________________________________________\n",
            "re_lu_19 (ReLU)              (None, 7, 7, 128)         0         \n",
            "_________________________________________________________________\n",
            "conv2d_11 (Conv2D)           (None, 7, 7, 1)           1153      \n",
            "=================================================================\n",
            "Total params: 100,137\n",
            "Trainable params: 99,641\n",
            "Non-trainable params: 496\n",
            "_________________________________________________________________\n"
          ],
          "name": "stdout"
        }
      ]
    },
    {
      "cell_type": "markdown",
      "metadata": {
        "id": "i_J1Iu__JEDt",
        "colab_type": "text"
      },
      "source": [
        "## Deployment\n"
      ]
    },
    {
      "cell_type": "markdown",
      "metadata": {
        "id": "HULsCxRlnRJ0",
        "colab_type": "text"
      },
      "source": [
        "*   Use model"
      ]
    },
    {
      "cell_type": "markdown",
      "metadata": {
        "id": "xOuWLAxW6r4C",
        "colab_type": "text"
      },
      "source": [
        "### Use model"
      ]
    },
    {
      "cell_type": "code",
      "metadata": {
        "id": "8A_PcOvH6P5X",
        "colab_type": "code",
        "colab": {}
      },
      "source": [
        "def generate_multiple():\n",
        "  \"\"\"Generate multiple digits\n",
        "\n",
        "  Args:\n",
        "    num: Integer\n",
        "  \"\"\"\n",
        "\n",
        "  fig = plt.figure(figsize=(8, 8))\n",
        "\n",
        "  for i in range(16):\n",
        "    fig.add_subplot(4, 4, i+1)\n",
        "    input_vector = tf.random.normal((1, _INPUT))\n",
        "    image = generator(input_vector, training=False)\n",
        "    plt.imshow(tf.squeeze(image), cmap='gray')\n",
        "    plt.axis('off')\n",
        "\n",
        "  plt.suptitle('Fake data instances')\n",
        "  plt.show()"
      ],
      "execution_count": 17,
      "outputs": []
    },
    {
      "cell_type": "code",
      "metadata": {
        "id": "BqGoOQHukOnV",
        "colab_type": "code",
        "colab": {
          "base_uri": "https://localhost:8080/",
          "height": 523
        },
        "outputId": "50f77847-4476-4e18-a599-99f17b15d538"
      },
      "source": [
        "generate_multiple()"
      ],
      "execution_count": 18,
      "outputs": [
        {
          "output_type": "display_data",
          "data": {
            "image/png": "[encoded data removed]",
            "text/plain": [
              "<Figure size 576x576 with 16 Axes>"
            ]
          },
          "metadata": {
            "tags": [],
            "needs_background": "light"
          }
        }
      ]
    }
  ]
}