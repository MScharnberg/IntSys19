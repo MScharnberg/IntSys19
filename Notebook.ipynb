{
  "nbformat": 4,
  "nbformat_minor": 0,
  "metadata": {
    "colab": {
      "name": "IntSys19",
      "provenance": [],
      "collapsed_sections": [],
      "toc_visible": true,
      "authorship_tag": "ABX9TyPeVg7tlUNDAyr+onSpCnaf",
      "include_colab_link": true
    },
    "kernelspec": {
      "name": "python3",
      "display_name": "Python 3"
    },
    "accelerator": "GPU"
  },
  "cells": [
    {
      "cell_type": "markdown",
      "metadata": {
        "id": "view-in-github",
        "colab_type": "text"
      },
      "source": [
        "<a href=\"https://colab.research.google.com/github/MScharnberg/IntSys19/blob/master/Notebook.ipynb\" target=\"_parent\"><img src=\"https://colab.research.google.com/assets/colab-badge.svg\" alt=\"Open In Colab\"/></a>"
      ]
    },
    {
      "cell_type": "markdown",
      "metadata": {
        "id": "f9nonYttIcY_",
        "colab_type": "text"
      },
      "source": [
        "# Notebook\n",
        "\n",
        "Intelligent Systems\n",
        "\n",
        "---\n",
        "\n",
        "[@mats.scharnberg](mailto:mats.scharnberg@study.hs-duesseldorf.de)\n",
        "\n",
        "[@christoph.schneider](mailto:christoph.schneider@study.hs-duesseldorf.de)\n",
        "\n",
        "[@tobias.vossen](mailto:tobias.vossen@study.hs-duesseldorf.de)"
      ]
    },
    {
      "cell_type": "markdown",
      "metadata": {
        "id": "NSQM_Xscc7Iv",
        "colab_type": "text"
      },
      "source": [
        "## Contents"
      ]
    },
    {
      "cell_type": "markdown",
      "metadata": {
        "id": "TiwMbYYDInAC",
        "colab_type": "text"
      },
      "source": [
        "* Setup\n",
        "* Data\n",
        "* Model\n",
        "* Deployment"
      ]
    },
    {
      "cell_type": "markdown",
      "metadata": {
        "id": "e8YkBWqeIykh",
        "colab_type": "text"
      },
      "source": [
        "## Setup"
      ]
    },
    {
      "cell_type": "code",
      "metadata": {
        "id": "U79a3rpS6Tus",
        "colab_type": "code",
        "colab": {}
      },
      "source": [
        "# Showcase this Notebook?\n",
        "_SHOWCASE = True #@param [\"True\", \"False\"] {type:\"raw\"}"
      ],
      "execution_count": 1,
      "outputs": []
    },
    {
      "cell_type": "markdown",
      "metadata": {
        "id": "OueJ-PIUemId",
        "colab_type": "text"
      },
      "source": [
        "### Magic"
      ]
    },
    {
      "cell_type": "code",
      "metadata": {
        "id": "Qs1lannGekBR",
        "colab_type": "code",
        "colab": {}
      },
      "source": [
        "%matplotlib inline\n",
        "%load_ext tensorboard "
      ],
      "execution_count": 2,
      "outputs": []
    },
    {
      "cell_type": "markdown",
      "metadata": {
        "id": "_ELyN9zRpUQG",
        "colab_type": "text"
      },
      "source": [
        "### Libraries"
      ]
    },
    {
      "cell_type": "code",
      "metadata": {
        "id": "cWgHjJ9HfXx2",
        "colab_type": "code",
        "colab": {}
      },
      "source": [
        "import datetime\n",
        "import os\n",
        "from timeit import default_timer as timer\n",
        "from IPython import display"
      ],
      "execution_count": 3,
      "outputs": []
    },
    {
      "cell_type": "code",
      "metadata": {
        "id": "JS0gkzt9JdVi",
        "colab_type": "code",
        "colab": {
          "base_uri": "https://localhost:8080/",
          "height": 105
        },
        "outputId": "61371f22-9081-4e16-a34c-68bf231fbf36"
      },
      "source": [
        "import numpy as np\n",
        "print('NumPy version:', np.__version__)\n",
        "\n",
        "from matplotlib import pyplot as plt\n",
        "\n",
        "from tensorboard import version\n",
        "print('TensorBoard version:', version.VERSION)\n",
        "from tensorboard.plugins.hparams import api as hp\n",
        "\n",
        "import tensorflow as tf\n",
        "print('TensorFlow version:', tf.__version__)\n",
        "from tensorflow import keras\n",
        "from tensorflow.keras.layers import Activation, BatchNormalization, Conv2D, Conv2DTranspose, Dense, Flatten, Reshape, ReLU\n",
        "\n",
        "import tensorflow_addons as tfa\n",
        "print('TensorFlow Addons version:', tfa.__version__)\n",
        "import tensorflow_datasets as tfds\n",
        "print('TensorFlow Datasets version:', tfds.__version__)"
      ],
      "execution_count": 4,
      "outputs": [
        {
          "output_type": "stream",
          "text": [
            "NumPy version: 1.18.5\n",
            "TensorBoard version: 2.2.2\n",
            "TensorFlow version: 2.2.0\n",
            "TensorFlow Addons version: 0.8.3\n",
            "TensorFlow Datasets version: 2.1.0\n"
          ],
          "name": "stdout"
        }
      ]
    },
    {
      "cell_type": "markdown",
      "metadata": {
        "id": "rXBz1OC2IiYY",
        "colab_type": "text"
      },
      "source": [
        "### Utils"
      ]
    },
    {
      "cell_type": "code",
      "metadata": {
        "id": "4vrcp-AC4vJS",
        "colab_type": "code",
        "colab": {}
      },
      "source": [
        "def check_env():\n",
        "  \"\"\"Check hardware accelerator for training\"\"\"\n",
        "\n",
        "  if not tf.test.gpu_device_name():\n",
        "    print('WARNING: Running on CPU. Training may take a while...\\n')\n",
        "  else:\n",
        "    print('WARNING: Running on GPU. Ressources may be temporarly blocked...\\n')"
      ],
      "execution_count": 5,
      "outputs": []
    },
    {
      "cell_type": "code",
      "metadata": {
        "id": "20oC-KhCCel5",
        "colab_type": "code",
        "colab": {}
      },
      "source": [
        "def write_config(parameter, metrics):\n",
        "    \"\"\"Write config\n",
        "\n",
        "    Args:\n",
        "        parameter: Dict\n",
        "        metrics: Dict\n",
        "    \"\"\"\n",
        "\n",
        "    with tf.summary.create_file_writer('./logs/hparams').as_default():\n",
        "        hp.hparams_config(\n",
        "            hparams=list(parameter.values()),\n",
        "            metrics=list(metrics.values()),\n",
        "        )"
      ],
      "execution_count": 6,
      "outputs": []
    },
    {
      "cell_type": "code",
      "metadata": {
        "id": "9Gig7_RdaW57",
        "colab_type": "code",
        "colab": {}
      },
      "source": [
        "def write_graph():\n",
        "  input_vector = tf.random.normal((1, _INPUT))\n",
        "  tf.summary.trace_on(graph=True, profiler=True)\n",
        "  classification = discriminate(generate(input_vector))"
      ],
      "execution_count": 7,
      "outputs": []
    },
    {
      "cell_type": "code",
      "metadata": {
        "id": "PwnXar4i41fI",
        "colab_type": "code",
        "colab": {}
      },
      "source": [
        "def get_logs():\n",
        "  \"\"\"Setup logging\n",
        "  \n",
        "  Returns:\n",
        "    tf.summary.FileWriter\n",
        "\n",
        "  \"\"\"\n",
        "\n",
        "  logdir = os.path.join('logs', datetime.datetime.now().strftime('%Y-%m-%d'))\n",
        "  print('INFO: Logs will be written to', logdir, '\\n')\n",
        "  return tf.summary.create_file_writer(logdir)"
      ],
      "execution_count": 8,
      "outputs": []
    },
    {
      "cell_type": "code",
      "metadata": {
        "id": "NiMuuyQMmVKg",
        "colab_type": "code",
        "colab": {}
      },
      "source": [
        "def get_metrics():\n",
        "    \"\"\"Metrics\n",
        "    \n",
        "    Returns:\n",
        "        metrics: Dict\n",
        "    \"\"\"\n",
        "\n",
        "    metrics = {\n",
        "        'loss/generator' : hp.Metric('loss/generator', display_name='Generator', description='Loss of generator'),\n",
        "        'loss/reconstruction' : hp.Metric('loss/reconstruction', display_name='Reconstruction', description='Reconstruction loss'),\n",
        "        'loss/discriminator' : hp.Metric('loss/discriminator', display_name='Discriminator', description='Loss of discriminator'),\n",
        "        'loss/realVSfake' : hp.Metric('loss/realVSfake', display_name='RvsF', description='Real vs. Fake'),\n",
        "        'eval/kld' : hp.Metric('eval/kld', display_name='KLD', description='Kullback–Leibler divergence'),\n",
        "        'eval/mse' : hp.Metric('eval/mse', display_name='MSE', description='Mean-squared error'),\n",
        "    }\n",
        "    return metrics"
      ],
      "execution_count": 9,
      "outputs": []
    },
    {
      "cell_type": "code",
      "metadata": {
        "id": "8hLBhAgM5wo9",
        "colab_type": "code",
        "colab": {}
      },
      "source": [
        "def get_metrics_dict(metrics):\n",
        "\n",
        "  metrics_list = []\n",
        "  for i in range(4):\n",
        "    metrics_list.append(tf.keras.metrics.Mean())\n",
        "\n",
        "  metrics_list.append(tf.keras.metrics.MeanSquaredError())\n",
        "  metrics_list.append(tf.keras.metrics.KLDivergence())\n",
        "  metrics_dict = dict(zip(list(metrics.keys()), metrics_list))\n",
        "\n",
        "  return metrics_dict"
      ],
      "execution_count": 10,
      "outputs": []
    },
    {
      "cell_type": "markdown",
      "metadata": {
        "id": "T2MYmW2rJDd8",
        "colab_type": "text"
      },
      "source": [
        "## Data"
      ]
    },
    {
      "cell_type": "markdown",
      "metadata": {
        "id": "RX6GQRHMzsPw",
        "colab_type": "text"
      },
      "source": [
        "*   Choose dataset\n",
        "*   Load dataset\n",
        "*   Explore dataset\n",
        "*   Preprocess dataset\n",
        "*   Visualize dataset\n"
      ]
    },
    {
      "cell_type": "markdown",
      "metadata": {
        "id": "xowwDcwUzv17",
        "colab_type": "text"
      },
      "source": [
        "### Data constants"
      ]
    },
    {
      "cell_type": "code",
      "metadata": {
        "id": "Tglq6FvWxZrN",
        "colab_type": "code",
        "colab": {}
      },
      "source": [
        "_BS = 32 #@param {type:\"slider\", min:16, max:64, step:16}\n",
        "_DIM = 28 #@param [\"28\"] {type:\"raw\"}\n",
        "_DS = 'mnist'\n",
        "_INPUT = 196 # Noise input\n",
        "_SHAPE = (_DIM, _DIM) # Image shape\n",
        "_SIZE = '[:100%]' # Dataset size\n",
        "\n",
        "if _SHOWCASE:\n",
        "  _SIZE = '[:5%]' # Decrease dataset size for showcase"
      ],
      "execution_count": 11,
      "outputs": []
    },
    {
      "cell_type": "markdown",
      "metadata": {
        "id": "MrOlAOfTxvOA",
        "colab_type": "text"
      },
      "source": [
        "### Choose dataset"
      ]
    },
    {
      "cell_type": "code",
      "metadata": {
        "id": "eSpXqBUNO4OT",
        "colab_type": "code",
        "colab": {
          "base_uri": "https://localhost:8080/",
          "height": 35
        },
        "outputId": "1f25e871-45ee-4892-9763-54b0d3760c5a"
      },
      "source": [
        "datasets = tfds.list_builders()\n",
        "print('TF datasets available:', len(datasets))"
      ],
      "execution_count": 12,
      "outputs": [
        {
          "output_type": "stream",
          "text": [
            "TF datasets available: 155\n"
          ],
          "name": "stdout"
        }
      ]
    },
    {
      "cell_type": "markdown",
      "metadata": {
        "id": "Qj2k58s4wPmo",
        "colab_type": "text"
      },
      "source": [
        "### Load dataset"
      ]
    },
    {
      "cell_type": "code",
      "metadata": {
        "id": "TFoVL9EJiEBX",
        "colab_type": "code",
        "colab": {}
      },
      "source": [
        "def load_dataset(dataset):\n",
        "  \"\"\"Load dataset by means of TFDS (TensorFlow Datasets)\n",
        "  \n",
        "  Args:\n",
        "    dataset: String\n",
        "  \n",
        "  Returns:\n",
        "    train: tf.data.Dataset\n",
        "    test: tf.data.Dataset\n",
        "  \"\"\"\n",
        "\n",
        "  (train, test), info = tfds.load(dataset,\n",
        "                            split=['train'+_SIZE, 'test'+_SIZE],\n",
        "                            as_supervised=True,\n",
        "                            with_info=True)\n",
        "\n",
        "  print('Description:', info.description)\n",
        "  print('Source:', info.homepage)\n",
        "  print('Total number of examples:', info.splits['train'].num_examples + info.splits['test'].num_examples)\n",
        "  return train, test"
      ],
      "execution_count": 13,
      "outputs": []
    },
    {
      "cell_type": "code",
      "metadata": {
        "id": "WjkMHdNAhahW",
        "colab_type": "code",
        "colab": {
          "base_uri": "https://localhost:8080/",
          "height": 70
        },
        "outputId": "41b0c771-32b2-4f64-9bb6-4a59102a23f7"
      },
      "source": [
        "train_dataset, test_dataset = load_dataset(_DS)"
      ],
      "execution_count": 14,
      "outputs": [
        {
          "output_type": "stream",
          "text": [
            "Description: The MNIST database of handwritten digits.\n",
            "Source: http://yann.lecun.com/exdb/mnist/\n",
            "Total number of examples: 70000\n"
          ],
          "name": "stdout"
        }
      ]
    },
    {
      "cell_type": "markdown",
      "metadata": {
        "id": "WBstOfxzxW_J",
        "colab_type": "text"
      },
      "source": [
        "### Explore dataset"
      ]
    },
    {
      "cell_type": "code",
      "metadata": {
        "id": "m4vw8MK5BnCs",
        "colab_type": "code",
        "colab": {}
      },
      "source": [
        "def balance(title, *argv):\n",
        "  \"\"\"Balance of datasets\n",
        "  \n",
        "  Args:\n",
        "    title: List of Strings\n",
        "  \"\"\"\n",
        "\n",
        "  fig = plt.figure(figsize=(16, 8))\n",
        "\n",
        "  for num, dataset in enumerate(argv):\n",
        "    size = tf.data.experimental.cardinality(dataset)\n",
        "\n",
        "    for image, label in dataset.batch(size).take(-1):\n",
        "      y, idx, count = tf.unique_with_counts(label)\n",
        "      fig.add_subplot(1, len(argv), num+1)\n",
        "      plt.pie(count, autopct='%1.1f%%')\n",
        "      plt.legend(labels=y.numpy())\n",
        "      plt.title(title[num] + ' label distribution of ' + str(size.numpy()) + ' examples')\n",
        "\n",
        "  plt.suptitle('Balance')\n",
        "  plt.show()"
      ],
      "execution_count": 15,
      "outputs": []
    },
    {
      "cell_type": "code",
      "metadata": {
        "id": "kJ8v7anDDoJO",
        "colab_type": "code",
        "colab": {
          "base_uri": "https://localhost:8080/",
          "height": 405
        },
        "outputId": "4730b717-aa10-4c8f-ba72-9ad8ee8a6a0e"
      },
      "source": [
        "balance(['Train', 'Test'], train_dataset, test_dataset)"
      ],
      "execution_count": 16,
      "outputs": [
        {
          "output_type": "display_data",
          "data": {
            "image/png": "[encoded data removed]",
            "text/plain": [
              "<Figure size 1152x576 with 2 Axes>"
            ]
          },
          "metadata": {
            "tags": []
          }
        }
      ]
    },
    {
      "cell_type": "markdown",
      "metadata": {
        "id": "YtkNOyStwheZ",
        "colab_type": "text"
      },
      "source": [
        "### Preprocess dataset"
      ]
    },
    {
      "cell_type": "code",
      "metadata": {
        "id": "O_ID5Tm4whTY",
        "colab_type": "code",
        "colab": {}
      },
      "source": [
        "def normalize(image, label):\n",
        "  \"\"\"Normalize dataset \n",
        "  \n",
        "  Normalize:\n",
        "    Cast -> Normalize\n",
        "\n",
        "  Args:\n",
        "    image: tf.Tensor as Integer\n",
        "    label: tf.Tensor as Integer\n",
        "  \n",
        "  Returns:\n",
        "    image: tf.Tensor as Float\n",
        "    label: tf.Tensor as Float\n",
        "    noise: tf.Tensor as Float\n",
        "  \"\"\"\n",
        "\n",
        "  image = tf.cast(image, tf.float32)\n",
        "  image = (image - 127.5) / 127.5 # -1...1\n",
        "  image = tf.squeeze(image, -1) # (28, 28)\n",
        "  \n",
        "  label = tf.cast(label, tf.float32) # (1)\n",
        "  # noise = tf.random.normal((_INPUT, ), mean=tf.math.truediv(label, 10.0)) # (196)\n",
        "  noise = tf.random.normal((_INPUT, ))\n",
        "  label = tf.expand_dims(label, -1)\n",
        "\n",
        "  return image, label, noise"
      ],
      "execution_count": 17,
      "outputs": []
    },
    {
      "cell_type": "code",
      "metadata": {
        "id": "z8ARF2VGwimg",
        "colab_type": "code",
        "colab": {}
      },
      "source": [
        "def preprocess(dataset, shuffle=True, batch=True, prefetch=True):\n",
        "  \"\"\"Preprocess dataset\n",
        "\n",
        "  Preprocess: \n",
        "    Normalize -> Shuffle -> Batch -> Prefetch\n",
        "  \n",
        "  Args:\n",
        "    dataset: tf.data.Dataset\n",
        "    shuffle: boolean\n",
        "    batch: boolean\n",
        "    prefetch: boolean\n",
        "  \n",
        "  Returns:\n",
        "    dataset: tf.data.Dataset\n",
        "  \"\"\"\n",
        "\n",
        "  dataset = dataset.map(normalize)\n",
        "  if shuffle: dataset = dataset.shuffle(tf.data.experimental.cardinality(dataset))\n",
        "  if batch: dataset = dataset.batch(_BS, drop_remainder=True)\n",
        "  if prefetch: dataset = dataset.prefetch(1)\n",
        "  return dataset"
      ],
      "execution_count": 18,
      "outputs": []
    },
    {
      "cell_type": "code",
      "metadata": {
        "id": "UGg346GHhlGn",
        "colab_type": "code",
        "colab": {}
      },
      "source": [
        "train_dataset = preprocess(train_dataset)\n",
        "test_dataset = preprocess(test_dataset)"
      ],
      "execution_count": 19,
      "outputs": []
    },
    {
      "cell_type": "markdown",
      "metadata": {
        "id": "_MPEQGQC0PMz",
        "colab_type": "text"
      },
      "source": [
        "### Visualize dataset"
      ]
    },
    {
      "cell_type": "code",
      "metadata": {
        "id": "_6kw0MiShwtF",
        "colab_type": "code",
        "colab": {}
      },
      "source": [
        "def visualize(dataset):\n",
        "  \"\"\"Visualize dataset\n",
        "  \n",
        "  Args:\n",
        "    dataset: tf.data.Dataset\n",
        "  \"\"\"\n",
        "\n",
        "  dataset = dataset.unbatch()\n",
        "  fig = plt.figure(figsize=(16, 16))\n",
        "  i = 0\n",
        "  for image, label, noise in dataset.take(16):\n",
        "    fig.add_subplot(4, 4, i+1)\n",
        "    plt.imshow(image, cmap='gray')\n",
        "    plt.title(int(label.numpy()))\n",
        "    plt.axis('off')\n",
        "    i = i+1\n",
        "\n",
        "  plt.suptitle('Real data instances')\n",
        "  plt.show()"
      ],
      "execution_count": 20,
      "outputs": []
    },
    {
      "cell_type": "code",
      "metadata": {
        "id": "K0J6DTi00QYn",
        "colab_type": "code",
        "colab": {
          "base_uri": "https://localhost:8080/",
          "height": 809
        },
        "outputId": "0637b435-6117-4ff7-e903-f6948188ac19"
      },
      "source": [
        "visualize(train_dataset)"
      ],
      "execution_count": 21,
      "outputs": [
        {
          "output_type": "display_data",
          "data": {
            "image/png": "[encoded data removed]",
            "text/plain": [
              "<Figure size 1152x1152 with 16 Axes>"
            ]
          },
          "metadata": {
            "tags": [],
            "needs_background": "light"
          }
        }
      ]
    },
    {
      "cell_type": "markdown",
      "metadata": {
        "id": "CldSQqmFJD8W",
        "colab_type": "text"
      },
      "source": [
        "## Model"
      ]
    },
    {
      "cell_type": "markdown",
      "metadata": {
        "id": "qDldTil11sjk",
        "colab_type": "text"
      },
      "source": [
        "*   Choose model\n",
        "*   Explore model\n",
        "*   Compile model\n",
        "*   Train model\n",
        "*   Evaluate model"
      ]
    },
    {
      "cell_type": "code",
      "metadata": {
        "id": "5kadF-_UxcQa",
        "colab_type": "code",
        "colab": {}
      },
      "source": [
        "_EPOCHS = 10 #@param {type:\"slider\", min:10, max:100, step:10}\n",
        "_LR = 1e-4 # Learning rate\n",
        "_DEPTH = 2 # Model depth\n",
        "_INPUT = 196 # Generator input"
      ],
      "execution_count": 22,
      "outputs": []
    },
    {
      "cell_type": "markdown",
      "metadata": {
        "id": "7JYDRBAg0b2o",
        "colab_type": "text"
      },
      "source": [
        "### Parameters"
      ]
    },
    {
      "cell_type": "code",
      "metadata": {
        "id": "uTu3q8EY0dWH",
        "colab_type": "code",
        "colab": {}
      },
      "source": [
        "def get_parameter():\n",
        "  \"\"\"Setup parameter\n",
        "  \n",
        "  Returns:\n",
        "    Dict \n",
        "  \"\"\"\n",
        "\n",
        "  parameter = {\n",
        "    'model/act' : hp.HParam('model/act', hp.Discrete(['lrelu']), display_name='Activation', description='Layer activation'),\n",
        "    'model/arch' : hp.HParam('model/arch', hp.Discrete(['dec']), display_name='Architecture', description='Model architecture'),\n",
        "    'model/init' : hp.HParam('model/init', hp.Discrete(['normal']), display_name='Initialization', description='Weight initialization'),\n",
        "    'model/lr' : hp.HParam('model/lr', hp.Discrete([1e-3]), display_name='LR', description='Optimizer learning rate'),\n",
        "    'model/opt' : hp.HParam('model/opt', hp.Discrete(['adam']), display_name='Optimizer', description='Optimizer algorithm'),\n",
        "    'model/norm' : hp.HParam('model/norm', hp.Discrete(['batch']), display_name='Normalization', description='Layer normalization'),\n",
        "  }\n",
        "  return parameter"
      ],
      "execution_count": 23,
      "outputs": []
    },
    {
      "cell_type": "code",
      "metadata": {
        "id": "DJDmwQwC5a-Y",
        "colab_type": "code",
        "colab": {}
      },
      "source": [
        "def get_parameter_dict(parameter):\n",
        "  parameter_list = []\n",
        "  for key, value in parameter.items():\n",
        "    for parameter_value in value.domain.values:\n",
        "        parameter_list.append(parameter_value)\n",
        "        break\n",
        "\n",
        "  parameter_dict = dict(zip(list(parameter.keys()), parameter_list))\n",
        "  return parameter_dict"
      ],
      "execution_count": 24,
      "outputs": []
    },
    {
      "cell_type": "markdown",
      "metadata": {
        "id": "ziUjG_oyyE_F",
        "colab_type": "text"
      },
      "source": [
        "### Define layers"
      ]
    },
    {
      "cell_type": "code",
      "metadata": {
        "id": "2fVbQzf6j9yK",
        "colab_type": "code",
        "colab": {}
      },
      "source": [
        "def get_activation(activation='relu'):\n",
        "  \"\"\"Activation layer\n",
        "  \n",
        "  Args:\n",
        "    avtivation: String\n",
        "\n",
        "  Returns:\n",
        "    keras.layers.Layer\n",
        "  \"\"\"\n",
        "  \n",
        "  if activation == 'lrelu': return keras.layers.LeakyReLU()\n",
        "  else: return keras.layers.ReLU()"
      ],
      "execution_count": 25,
      "outputs": []
    },
    {
      "cell_type": "code",
      "metadata": {
        "id": "gv-PMAsp-QGO",
        "colab_type": "code",
        "colab": {}
      },
      "source": [
        "def get_normalization(normalization='batch'):\n",
        "  \"\"\"Normalization layer\n",
        "  \n",
        "  Args:\n",
        "    normalization: String\n",
        "\n",
        "  Returns:\n",
        "    keras.layers.Layer\n",
        "  \"\"\"\n",
        "\n",
        "  if normalization == 'group': return tfa.layers.GroupNormalization()\n",
        "  else: return BatchNormalization()"
      ],
      "execution_count": 26,
      "outputs": []
    },
    {
      "cell_type": "code",
      "metadata": {
        "id": "0wpRVgIWyGnr",
        "colab_type": "code",
        "colab": {}
      },
      "source": [
        "def get_initializer(initializer='normal'):\n",
        "  \"\"\"Initializer object\n",
        "  \n",
        "  Args:\n",
        "    initializer: String\n",
        "\n",
        "  Returns:\n",
        "    keras.initializers.Initializer\n",
        "  \"\"\"\n",
        "  \n",
        "  if initializer == 'xavier': return keras.initializers.GlorotNormal()\n",
        "  else: return keras.initializers.RandomNormal()"
      ],
      "execution_count": 27,
      "outputs": []
    },
    {
      "cell_type": "code",
      "metadata": {
        "id": "E-PzDlzD2_Xb",
        "colab_type": "code",
        "colab": {}
      },
      "source": [
        "def plot_initializer(*args):\n",
        "  \"\"\"Visualize initializer\"\"\"\n",
        "\n",
        "  fig = plt.figure(figsize=(8*len(args), 8))\n",
        "\n",
        "  i = 1\n",
        "  for arg in args:\n",
        "\n",
        "    model = keras.Sequential(Dense(_INPUT, kernel_initializer=get_initializer(arg), input_shape=(1, )))\n",
        "    fig.add_subplot(1, len(args), i)\n",
        "    plt.hist(model.layers[0].get_weights()[0][0], bins=32)\n",
        "    plt.title(arg)\n",
        "    i += 1\n",
        "\n",
        "  plt.suptitle('Initializer')\n",
        "  plt.show()"
      ],
      "execution_count": 28,
      "outputs": []
    },
    {
      "cell_type": "code",
      "metadata": {
        "id": "5cQxtEs_3aJR",
        "colab_type": "code",
        "colab": {
          "base_uri": "https://localhost:8080/",
          "height": 421
        },
        "outputId": "9563a601-8560-443b-838b-3e6b12b2ed2f"
      },
      "source": [
        "plot_initializer('normal', 'xavier')"
      ],
      "execution_count": 29,
      "outputs": [
        {
          "output_type": "display_data",
          "data": {
            "image/png": "[encoded data removed]",
            "text/plain": [
              "<Figure size 1152x576 with 2 Axes>"
            ]
          },
          "metadata": {
            "tags": [],
            "needs_background": "light"
          }
        }
      ]
    },
    {
      "cell_type": "markdown",
      "metadata": {
        "id": "txpKZWzK78JT",
        "colab_type": "text"
      },
      "source": [
        "### Define model"
      ]
    },
    {
      "cell_type": "markdown",
      "metadata": {
        "id": "IeKDFz8V2rUS",
        "colab_type": "text"
      },
      "source": [
        "![GAN](https://github.com/MScharnberg/IntSys19/blob/master/gan.png?raw=1)\n",
        "\n",
        "Fake data distribution $p_{noise}$\n",
        "\n",
        "Real data distribution $p_{data}$\n",
        "\n",
        "---\n",
        "\n",
        "Generator $G$\n",
        "\n",
        "Discriminator $D$\n",
        "\n",
        "---\n",
        "\n",
        "Noise $z \\sim p_{noise}$\n",
        "\n",
        "Original $x \\sim p_{data}$\n",
        "\n",
        "Copy $x' = G(z)$\n",
        "\n",
        "Classification $c = D(x \\lor x')$\n",
        "\n",
        "\n"
      ]
    },
    {
      "cell_type": "code",
      "metadata": {
        "id": "ZlxLwVKT9bov",
        "colab_type": "code",
        "cellView": "code",
        "colab": {}
      },
      "source": [
        "def get_generator(activation='relu', architecture='fcn', initializer='normal', normalization='batch'):\n",
        "  \"\"\"Get Generator\n",
        "\n",
        "  Args:\n",
        "    parameter: Dict\n",
        "\n",
        "  Returns:\n",
        "    keras.Model\n",
        "  \"\"\"\n",
        "  \n",
        "  first = keras.Input(shape=(_INPUT, ), name='Input')\n",
        "  layer = first\n",
        "\n",
        "  if architecture == 'dec':\n",
        "    layer = Reshape((7, 7, 4))(layer)\n",
        "    \n",
        "    for i in range(_DEPTH):\n",
        "      layer = Conv2DTranspose(16*2**i, (3, 3), \n",
        "        padding='same', use_bias=False,\n",
        "        kernel_initializer=get_initializer(initializer))(layer)\n",
        "      layer = get_normalization(normalization)(layer)\n",
        "      layer = get_activation(activation)(layer)\n",
        "\n",
        "    for i in range(_DEPTH):\n",
        "      layer = Conv2DTranspose(64*2**i, (3, 3), \n",
        "        padding='same', strides=2, use_bias=False,\n",
        "        kernel_initializer=get_initializer(initializer))(layer)\n",
        "      layer = get_normalization(normalization)(layer)\n",
        "      layer = get_activation(activation)(layer)\n",
        "\n",
        "    layer = Conv2DTranspose(1, (3, 3), \n",
        "      strides=1, padding='same', use_bias=False,\n",
        "      activation='tanh')(layer)\n",
        "\n",
        "  else:\n",
        "    for i in range(_DEPTH):\n",
        "      layer = Dense(784 / _DEPTH * (i+1), activation='tanh')(layer)\n",
        "\n",
        "  last = Reshape(_SHAPE, name='Output')(layer)\n",
        "  return keras.Model(inputs=first, outputs=last, name='Generator')"
      ],
      "execution_count": 30,
      "outputs": []
    },
    {
      "cell_type": "code",
      "metadata": {
        "id": "phYnbtwbVTD3",
        "colab_type": "code",
        "colab": {}
      },
      "source": [
        "def generate(input_vector):\n",
        "  \"\"\"Generate single image\n",
        "\n",
        "  Returns:\n",
        "    image: tf.Tensor as Float\n",
        "  \"\"\"\n",
        "\n",
        "  image = generator(input_vector, training=False) # (1, 28, 28)\n",
        "  image = tf.squeeze(image, 0) # (28, 28)\n",
        "  return image"
      ],
      "execution_count": 31,
      "outputs": []
    },
    {
      "cell_type": "code",
      "metadata": {
        "id": "oYsDpECFwxPa",
        "colab_type": "code",
        "colab": {}
      },
      "source": [
        "def get_discriminator(activation='relu', architecture='fcn', initializer='normal', normalization='batch'):\n",
        "  \"\"\"Get Discriminator\n",
        "\n",
        "  Args:\n",
        "    parameter: Dict\n",
        "             \n",
        "  Returns:\n",
        "    keras.Model\n",
        "  \"\"\"\n",
        "\n",
        "  first = keras.Input(shape=_SHAPE, name='Input')\n",
        "  layer = first\n",
        "\n",
        "  if architecture == 'dec':\n",
        "    layer = Reshape((_SHAPE) + (1, ))(layer)\n",
        "\n",
        "    for i in range(2):\n",
        "      layer = Conv2D(16*2**i, (3, 3), \n",
        "        strides=2, padding='same', use_bias=False,\n",
        "        kernel_initializer=get_initializer(initializer))(layer)\n",
        "      layer = get_normalization(normalization)(layer)\n",
        "      layer = get_activation(activation)(layer)\n",
        "    \n",
        "    layer = Flatten()(layer)\n",
        "  \n",
        "  else:\n",
        "    layer = Flatten()(layer)\n",
        "    for i in reversed(range(_DEPTH)):\n",
        "      layer = Dense(784 / (_DEPTH+1) * (i+1))(layer)\n",
        "\n",
        "  last = Dense(1)(layer)\n",
        "  return keras.Model(inputs=first, outputs=last, name='Discriminator')"
      ],
      "execution_count": 32,
      "outputs": []
    },
    {
      "cell_type": "code",
      "metadata": {
        "id": "iRfJHQ2dnz2A",
        "colab_type": "code",
        "colab": {}
      },
      "source": [
        "def discriminate(image):\n",
        "  \"\"\"Discriminate classification\n",
        "\n",
        "  Args:\n",
        "    image: tf.Tensor as Float\n",
        "\n",
        "  Returns:\n",
        "    classification: tf.Tensor as Float\n",
        "  \"\"\"\n",
        "\n",
        "  image = tf.expand_dims(image, 0) # (1, 28, 28)\n",
        "  classification = discriminator(image, training=False) # (1, )\n",
        "  return classification"
      ],
      "execution_count": 33,
      "outputs": []
    },
    {
      "cell_type": "markdown",
      "metadata": {
        "id": "bjhc4rSRbOYe",
        "colab_type": "text"
      },
      "source": [
        "### Explore model"
      ]
    },
    {
      "cell_type": "code",
      "metadata": {
        "id": "G2Hxj2FCigYH",
        "colab_type": "code",
        "colab": {
          "base_uri": "https://localhost:8080/",
          "height": 299
        },
        "outputId": "b24efccb-c1d7-486e-ef9f-0779e35ceece"
      },
      "source": [
        "generator = get_generator()\n",
        "generator.summary()"
      ],
      "execution_count": 34,
      "outputs": [
        {
          "output_type": "stream",
          "text": [
            "Model: \"Generator\"\n",
            "_________________________________________________________________\n",
            "Layer (type)                 Output Shape              Param #   \n",
            "=================================================================\n",
            "Input (InputLayer)           [(None, 196)]             0         \n",
            "_________________________________________________________________\n",
            "dense_2 (Dense)              (None, 392)               77224     \n",
            "_________________________________________________________________\n",
            "dense_3 (Dense)              (None, 784)               308112    \n",
            "_________________________________________________________________\n",
            "Output (Reshape)             (None, 28, 28)            0         \n",
            "=================================================================\n",
            "Total params: 385,336\n",
            "Trainable params: 385,336\n",
            "Non-trainable params: 0\n",
            "_________________________________________________________________\n"
          ],
          "name": "stdout"
        }
      ]
    },
    {
      "cell_type": "code",
      "metadata": {
        "id": "c6crlLXiuNyR",
        "colab_type": "code",
        "colab": {
          "base_uri": "https://localhost:8080/",
          "height": 334
        },
        "outputId": "ef61e6bf-0892-4137-ac74-cddc66c4b137"
      },
      "source": [
        "discriminator = get_discriminator()\n",
        "discriminator.summary()"
      ],
      "execution_count": 35,
      "outputs": [
        {
          "output_type": "stream",
          "text": [
            "Model: \"Discriminator\"\n",
            "_________________________________________________________________\n",
            "Layer (type)                 Output Shape              Param #   \n",
            "=================================================================\n",
            "Input (InputLayer)           [(None, 28, 28)]          0         \n",
            "_________________________________________________________________\n",
            "flatten (Flatten)            (None, 784)               0         \n",
            "_________________________________________________________________\n",
            "dense_4 (Dense)              (None, 522)               409770    \n",
            "_________________________________________________________________\n",
            "dense_5 (Dense)              (None, 261)               136503    \n",
            "_________________________________________________________________\n",
            "dense_6 (Dense)              (None, 1)                 262       \n",
            "=================================================================\n",
            "Total params: 546,535\n",
            "Trainable params: 546,535\n",
            "Non-trainable params: 0\n",
            "_________________________________________________________________\n"
          ],
          "name": "stdout"
        }
      ]
    },
    {
      "cell_type": "code",
      "metadata": {
        "id": "YuSh7oBkbaeW",
        "colab_type": "code",
        "colab": {}
      },
      "source": [
        "def explore_model():\n",
        "  \"\"\"Explore model\n",
        "  \n",
        "  Pipeline: Generator -> Discriminator\n",
        "    Noise -> Generator -> Image -> Discriminator -> Classification\n",
        "  \"\"\"\n",
        "\n",
        "  # Generator\n",
        "  input_vector = tf.random.normal((1, _INPUT))\n",
        "  image = generate(input_vector)\n",
        "  fig = plt.figure(figsize=(16, 8))\n",
        "  ax1 = fig.add_subplot(1, 2, 1)\n",
        "  plt.hist(input_vector, bins=32)\n",
        "  ax1.title.set_text('Input vector')\n",
        "  ax2 = fig.add_subplot(1, 2, 2)\n",
        "  plt.imshow(image, cmap='gray')\n",
        "  plt.axis('off')\n",
        "  ax2.title.set_text('Output image')\n",
        "  plt.suptitle('Generator')\n",
        "  plt.show()\n",
        "\n",
        "  # Discriminator\n",
        "  classification = discriminate(image)\n",
        "  fig = plt.figure(figsize=(16, 8))\n",
        "  idx = tf.squeeze(classification, 0)\n",
        "  ax1 = fig.add_subplot(1, 2, 1)\n",
        "  plt.imshow(image, cmap='gray')\n",
        "  plt.axis('off')\n",
        "  ax1.title.set_text('Input image')\n",
        "  ax2 = fig.add_subplot(1, 2, 2)\n",
        "  plt.plot([idx, idx], [0, 1], 'r-', label='Classification')\n",
        "  plt.legend()\n",
        "  ax2.title.set_text('Output classification')\n",
        "  ax2.axes.set_xticks([-1, 0, 1])\n",
        "  ax2.axes.set_xticklabels(['Copy', 'Unsure', 'Original'])\n",
        "  plt.suptitle('Discriminator')\n",
        "  plt.show()"
      ],
      "execution_count": 36,
      "outputs": []
    },
    {
      "cell_type": "code",
      "metadata": {
        "id": "PX7pBEDedPZN",
        "colab_type": "code",
        "colab": {
          "base_uri": "https://localhost:8080/",
          "height": 820
        },
        "outputId": "def06e0f-2aff-49cb-ff8f-caaff65615b4"
      },
      "source": [
        "explore_model()"
      ],
      "execution_count": 37,
      "outputs": [
        {
          "output_type": "display_data",
          "data": {
            "image/png": "[encoded data removed]",
            "text/plain": [
              "<Figure size 1152x576 with 2 Axes>"
            ]
          },
          "metadata": {
            "tags": [],
            "needs_background": "light"
          }
        },
        {
          "output_type": "display_data",
          "data": {
            "image/png": "[encoded data removed]",
            "text/plain": [
              "<Figure size 1152x576 with 2 Axes>"
            ]
          },
          "metadata": {
            "tags": [],
            "needs_background": "light"
          }
        }
      ]
    },
    {
      "cell_type": "markdown",
      "metadata": {
        "id": "GLBusJTjw1KQ",
        "colab_type": "text"
      },
      "source": [
        "### Compile model"
      ]
    },
    {
      "cell_type": "markdown",
      "metadata": {
        "id": "4TLZu94vmFBh",
        "colab_type": "text"
      },
      "source": [
        "* Loss\n",
        "   * Generator loss\n",
        "   * Discriminator loss\n",
        "* Optimizer\n",
        "  * [Adam](https://arxiv.org/abs/1412.6980) (Adaptive Moment Estimation)"
      ]
    },
    {
      "cell_type": "code",
      "metadata": {
        "id": "NUbju1Tpw1qx",
        "colab_type": "code",
        "colab": {}
      },
      "source": [
        "def objective():\n",
        "  \"\"\"Binary crossentropy objective function\n",
        "  \n",
        "  Returns:\n",
        "    keras.losses.Loss\n",
        "  \"\"\"\n",
        "\n",
        "  return keras.losses.BinaryCrossentropy(from_logits=True)"
      ],
      "execution_count": 38,
      "outputs": []
    },
    {
      "cell_type": "code",
      "metadata": {
        "id": "LcgE2Mh8E6Os",
        "colab_type": "code",
        "colab": {}
      },
      "source": [
        "def generator_loss(fake_output, real_images, fake_images):\n",
        "  \"\"\"Generator loss\n",
        "  \n",
        "  Args:\n",
        "    fake_output: tf.Tensor as Float\n",
        "    real_images: tf.Tensor as Float\n",
        "    fake_images: tf.Tensor as Float\n",
        "\n",
        "  Returns:\n",
        "    generator_loss: tf.Tensor as Float\n",
        "    reconstruction_loss: tf.Tensor as Float\n",
        "  \"\"\"\n",
        "\n",
        "  generator_loss = loss_fn(tf.ones_like(fake_output), fake_output)\n",
        "  reconstruction_loss = tf.reduce_mean(tf.abs(real_images - fake_images)) # L1\n",
        "\n",
        "  return generator_loss, reconstruction_loss"
      ],
      "execution_count": 39,
      "outputs": []
    },
    {
      "cell_type": "code",
      "metadata": {
        "id": "0iZ-QZOME6WF",
        "colab_type": "code",
        "colab": {}
      },
      "source": [
        "def discriminator_loss(real_output, fake_output):\n",
        "  \"\"\"Discriminator loss\n",
        "  \n",
        "  Args:\n",
        "    real_output: tf.Tensor as Float\n",
        "    fake_output: tf.Tensor as Float\n",
        "\n",
        "  Returns:\n",
        "    discriminator_loss: tf.Tensor as Float\n",
        "    loss_quotient: tf.Tensor as Float\n",
        "  \"\"\"\n",
        "\n",
        "  real_loss = loss_fn(tf.ones_like(real_output), real_output)\n",
        "  fake_loss = loss_fn(tf.zeros_like(fake_output), fake_output)\n",
        "  discriminator_loss = real_loss + fake_loss\n",
        "  loss_quotient = real_loss / fake_loss\n",
        "  \n",
        "  return discriminator_loss, loss_quotient"
      ],
      "execution_count": 40,
      "outputs": []
    },
    {
      "cell_type": "code",
      "metadata": {
        "id": "pXyDCvJOFI0W",
        "colab_type": "code",
        "colab": {}
      },
      "source": [
        "def optimizer(optimizer='adam', learning_rate=1e-4):\n",
        "  \"\"\"(Lazy) Adam optimizer with exponential decay\n",
        "  \n",
        "  Args:\n",
        "    algorithm: String\n",
        "    learning_rate: Float\n",
        "  \n",
        "  Returns:\n",
        "    keras.optimizers.Optimizer\n",
        "  \"\"\"\n",
        "  \n",
        "  schedule = keras.optimizers.schedules.ExponentialDecay(\n",
        "      learning_rate,\n",
        "      decay_steps=10,\n",
        "      decay_rate=0.96)\n",
        "  \n",
        "  if optimizer == 'lazy': return tfa.optimizers.LazyAdam(schedule)\n",
        "  else: return tf.keras.optimizers.Adam(schedule)"
      ],
      "execution_count": 41,
      "outputs": []
    },
    {
      "cell_type": "code",
      "metadata": {
        "id": "JTYqvAWyiTMz",
        "colab_type": "code",
        "colab": {}
      },
      "source": [
        "loss_fn = objective()\n",
        "generator_optimizer = optimizer()\n",
        "discriminator_optimizer = optimizer()"
      ],
      "execution_count": 42,
      "outputs": []
    },
    {
      "cell_type": "markdown",
      "metadata": {
        "id": "yAHJU6Gww3_X",
        "colab_type": "text"
      },
      "source": [
        "### Train model"
      ]
    },
    {
      "cell_type": "markdown",
      "metadata": {
        "id": "1TFd9QunSi6v",
        "colab_type": "text"
      },
      "source": [
        "#### Train step"
      ]
    },
    {
      "cell_type": "code",
      "metadata": {
        "id": "ZlbeBpOBw6Ve",
        "colab_type": "code",
        "colab": {}
      },
      "source": [
        "def train_step(real_images, noise, metrics):\n",
        "  \"\"\"Train step\n",
        "  \n",
        "  Step:\n",
        "    Generate fake images -> Update evaluation metrics -> \n",
        "    Classify fake/real images -> Compute losses -> \n",
        "    Update loss metrics -> Compute gradients -> Apply gradients\n",
        "\n",
        "  Args:\n",
        "    real_images: tf.Tensor as Float\n",
        "    noise: tf.Tensor as Float\n",
        "    metrics: Dict\n",
        "  \"\"\"\n",
        "\n",
        "  with tf.GradientTape() as gen_tape, tf.GradientTape() as disc_tape:\n",
        "    \n",
        "    fake_images = generator(noise, training=True)\n",
        "\n",
        "    metrics['eval/kld'].update_state(real_images, fake_images)\n",
        "    metrics['eval/mse'].update_state(real_images, fake_images)\n",
        "    \n",
        "    real_output = discriminator(real_images, training=True)\n",
        "    fake_output = discriminator(fake_images, training=True)\n",
        "\n",
        "    gen_loss, rec_loss = generator_loss(fake_output, real_images, fake_images)\n",
        "    metrics['loss/generator'].update_state(gen_loss)\n",
        "    metrics['loss/reconstruction'].update_state(rec_loss)\n",
        "\n",
        "    disc_loss, realVSfake = discriminator_loss(real_output, fake_output)\n",
        "    metrics['loss/discriminator'].update_state(disc_loss)\n",
        "    metrics['loss/realVSfake'].update_state(realVSfake)\n",
        "\n",
        "  gradients_of_generator = gen_tape.gradient(gen_loss, generator.trainable_variables)\n",
        "  gradients_of_discriminator = disc_tape.gradient(disc_loss, discriminator.trainable_variables)\n",
        "\n",
        "  generator_optimizer.apply_gradients(zip(gradients_of_generator, generator.trainable_variables))\n",
        "  discriminator_optimizer.apply_gradients(zip(gradients_of_discriminator, discriminator.trainable_variables))"
      ],
      "execution_count": 43,
      "outputs": []
    },
    {
      "cell_type": "code",
      "metadata": {
        "id": "MQmcjLcI91OK",
        "colab_type": "code",
        "colab": {
          "base_uri": "https://localhost:8080/",
          "height": 721
        },
        "outputId": "65db98d4-7e5c-4ed9-d702-dd6b12b65606"
      },
      "source": [
        "generator.summary()"
      ],
      "execution_count": 57,
      "outputs": [
        {
          "output_type": "stream",
          "text": [
            "Model: \"Generator\"\n",
            "_________________________________________________________________\n",
            "Layer (type)                 Output Shape              Param #   \n",
            "=================================================================\n",
            "Input (InputLayer)           [(None, 196)]             0         \n",
            "_________________________________________________________________\n",
            "reshape (Reshape)            (None, 7, 7, 4)           0         \n",
            "_________________________________________________________________\n",
            "conv2d_transpose (Conv2DTran (None, 7, 7, 16)          576       \n",
            "_________________________________________________________________\n",
            "batch_normalization (BatchNo (None, 7, 7, 16)          64        \n",
            "_________________________________________________________________\n",
            "leaky_re_lu (LeakyReLU)      (None, 7, 7, 16)          0         \n",
            "_________________________________________________________________\n",
            "conv2d_transpose_1 (Conv2DTr (None, 7, 7, 32)          4608      \n",
            "_________________________________________________________________\n",
            "batch_normalization_1 (Batch (None, 7, 7, 32)          128       \n",
            "_________________________________________________________________\n",
            "leaky_re_lu_1 (LeakyReLU)    (None, 7, 7, 32)          0         \n",
            "_________________________________________________________________\n",
            "conv2d_transpose_2 (Conv2DTr (None, 14, 14, 64)        18432     \n",
            "_________________________________________________________________\n",
            "batch_normalization_2 (Batch (None, 14, 14, 64)        256       \n",
            "_________________________________________________________________\n",
            "leaky_re_lu_2 (LeakyReLU)    (None, 14, 14, 64)        0         \n",
            "_________________________________________________________________\n",
            "conv2d_transpose_3 (Conv2DTr (None, 28, 28, 128)       73728     \n",
            "_________________________________________________________________\n",
            "batch_normalization_3 (Batch (None, 28, 28, 128)       512       \n",
            "_________________________________________________________________\n",
            "leaky_re_lu_3 (LeakyReLU)    (None, 28, 28, 128)       0         \n",
            "_________________________________________________________________\n",
            "conv2d_transpose_4 (Conv2DTr (None, 28, 28, 1)         1152      \n",
            "_________________________________________________________________\n",
            "Output (Reshape)             (None, 28, 28)            0         \n",
            "=================================================================\n",
            "Total params: 99,456\n",
            "Trainable params: 98,976\n",
            "Non-trainable params: 480\n",
            "_________________________________________________________________\n"
          ],
          "name": "stdout"
        }
      ]
    },
    {
      "cell_type": "code",
      "metadata": {
        "id": "JoTshhurGmJ3",
        "colab_type": "code",
        "colab": {
          "base_uri": "https://localhost:8080/",
          "height": 510
        },
        "outputId": "cf9b4ae4-3eb6-41df-fea7-0cdd4655742c"
      },
      "source": [
        "discriminator.summary()"
      ],
      "execution_count": 58,
      "outputs": [
        {
          "output_type": "stream",
          "text": [
            "Model: \"Discriminator\"\n",
            "_________________________________________________________________\n",
            "Layer (type)                 Output Shape              Param #   \n",
            "=================================================================\n",
            "Input (InputLayer)           [(None, 28, 28)]          0         \n",
            "_________________________________________________________________\n",
            "reshape_1 (Reshape)          (None, 28, 28, 1)         0         \n",
            "_________________________________________________________________\n",
            "conv2d (Conv2D)              (None, 14, 14, 64)        576       \n",
            "_________________________________________________________________\n",
            "batch_normalization_4 (Batch (None, 14, 14, 64)        256       \n",
            "_________________________________________________________________\n",
            "leaky_re_lu_4 (LeakyReLU)    (None, 14, 14, 64)        0         \n",
            "_________________________________________________________________\n",
            "conv2d_1 (Conv2D)            (None, 7, 7, 128)         73728     \n",
            "_________________________________________________________________\n",
            "batch_normalization_5 (Batch (None, 7, 7, 128)         512       \n",
            "_________________________________________________________________\n",
            "leaky_re_lu_5 (LeakyReLU)    (None, 7, 7, 128)         0         \n",
            "_________________________________________________________________\n",
            "flatten_1 (Flatten)          (None, 6272)              0         \n",
            "_________________________________________________________________\n",
            "dense_7 (Dense)              (None, 1)                 6273      \n",
            "=================================================================\n",
            "Total params: 81,345\n",
            "Trainable params: 80,961\n",
            "Non-trainable params: 384\n",
            "_________________________________________________________________\n"
          ],
          "name": "stdout"
        }
      ]
    },
    {
      "cell_type": "markdown",
      "metadata": {
        "id": "zrTrNCbCSk6R",
        "colab_type": "text"
      },
      "source": [
        "#### Train run"
      ]
    },
    {
      "cell_type": "code",
      "metadata": {
        "id": "zI70WA96FieX",
        "colab_type": "code",
        "colab": {}
      },
      "source": [
        "def train_run(dataset, parameter, metrics):\n",
        "  \"\"\"Train run\n",
        "  \n",
        "  Train:\n",
        "    Iterate over epochs -> Iterate over batches -> Train step per batch ->\n",
        "    Save (and reset) metrics\n",
        "\n",
        "  Args:\n",
        "    dataset: tf.data.Dataset\n",
        "    parameter: Dict\n",
        "    metrics: Dict\n",
        "  \"\"\"\n",
        "\n",
        "  start = timer()\n",
        "\n",
        "  print('\\t|Loss\\t\\t\\t\\t|Evaluation\\t|Time')\n",
        "  print('Epoch\\t|Gen\\tRec\\tDis\\tRvsF\\t|KLD\\tMSE\\t|ELA\\tETA')\n",
        "\n",
        "  for epoch in range(1, _EPOCHS + 1): # Iterate over epochs\n",
        "\n",
        "    epoch_start = timer()\n",
        "    output = [epoch, _EPOCHS] \n",
        "\n",
        "    for batch in dataset: # Iterate over batches\n",
        "      train_step(batch[0], batch[2], metrics)\n",
        "    \n",
        "    display.clear_output(wait=True)\n",
        "    fig = plt.figure(figsize=(8, 8))\n",
        "\n",
        "    i = 0\n",
        "    for image, label, noise in dataset.unbatch().take(16):\n",
        "\n",
        "      fake_image = generate(tf.expand_dims(noise, 0))\n",
        "      fig.add_subplot(4, 4, i+1)\n",
        "      plt.imshow(fake_image, cmap='gray')\n",
        "      plt.title(int(label.numpy()))\n",
        "      plt.axis('off')\n",
        "      i = i+1\n",
        "\n",
        "    tf.summary.scalar('optimizer/lr', optimizer(learning_rate=_LR).lr(epoch), step=epoch)\n",
        "\n",
        "    plt.suptitle('Fake data instances')\n",
        "    plt.show()\n",
        "\n",
        "    for key, metric in metrics.items(): # Save scalar metrics\n",
        "      tf.summary.scalar(key, metric.result(), step=epoch)\n",
        "      output.append(metric.result())\n",
        "      metric.reset_states()\n",
        "\n",
        "    output.append((timer()-start)/60)\n",
        "    output.append(((timer()-epoch_start) * (_EPOCHS - epoch))/60)\n",
        "    print('%i/%i\\t|%.2f\\t%.2f\\t%.2f\\t%.2f\\t|%.2f\\t%.2f\\t|%.1f m\\t%.1f m' % tuple(output))"
      ],
      "execution_count": 46,
      "outputs": []
    },
    {
      "cell_type": "markdown",
      "metadata": {
        "id": "iSC6k94rSme0",
        "colab_type": "text"
      },
      "source": [
        "#### Train"
      ]
    },
    {
      "cell_type": "code",
      "metadata": {
        "id": "3w7z2Vp-4oPr",
        "colab_type": "code",
        "colab": {}
      },
      "source": [
        "def coldstart():\n",
        "  check_env()\n",
        "  print('INFO: Training in showcase mode with reduced dataset size and training epochs...')\n",
        "  %rm -rf logs/ # Remove training logs"
      ],
      "execution_count": 47,
      "outputs": []
    },
    {
      "cell_type": "code",
      "metadata": {
        "id": "caHeFIJ6nHKG",
        "colab_type": "code",
        "colab": {
          "base_uri": "https://localhost:8080/",
          "height": 295
        },
        "outputId": "8d72ba20-1fca-4ac8-896f-bb516cb40fe0"
      },
      "source": [
        "coldstart()\n",
        "\n",
        "parameter = get_parameter()\n",
        "parameter_dict = get_parameter_dict(parameter)\n",
        "\n",
        "metrics = get_metrics()\n",
        "metrics_dict = get_metrics_dict(metrics)\n",
        "\n",
        "write_config(parameter, metrics)\n",
        "\n",
        "logdir = './logs'\n",
        "\n",
        "run = 1\n",
        "for act in parameter['model/act'].domain.values: # Iterate over layer activations\n",
        "  for arch in parameter['model/arch'].domain.values: # Iterate over model architectures \n",
        "    for init in parameter['model/init'].domain.values: # Iterate over weigth initializers\n",
        "      for lr in parameter['model/lr'].domain.values: # Iterate over optimizer learning rate\n",
        "        for norm in parameter['model/norm'].domain.values: # Iterate over layer normalization\n",
        "          for opt in parameter['model/opt'].domain.values: # Iterate over optimizer algorithms\n",
        "\n",
        "            # Write\n",
        "            parameter_dict['model/act'] = act\n",
        "            parameter_dict['model/arch'] = arch\n",
        "            parameter_dict['model/init'] = init\n",
        "            parameter_dict['model/lr'] = lr\n",
        "            parameter_dict['model/norm'] = norm\n",
        "            parameter_dict['model/opt'] = opt\n",
        "\n",
        "            print('\\n+++ Run', run, '+++\\n')\n",
        "            print('Act\\t|Arch\\t|Init\\t|LR\\t|Opt\\t|norm')\n",
        "            print('%s\\t|%s\\t|%s\\t|%.4f\\t|%s\\t|%s\\n' % tuple(parameter_dict.values()))\n",
        "\n",
        "            rundir = logdir + '/' + str(run)\n",
        "            writer = tf.summary.create_file_writer(rundir)\n",
        "\n",
        "            generator = get_generator(activation=act, architecture=arch, initializer=init, normalization=norm)\n",
        "            discriminator = get_discriminator(activation=act, architecture=arch, initializer=init, normalization=norm)\n",
        "\n",
        "            generator_optimizer = optimizer(optimizer=opt, learning_rate=_LR)\n",
        "            discriminator_optimizer = optimizer(optimizer=opt, learning_rate=_LR)\n",
        "                \n",
        "            with writer.as_default():\n",
        "              hp.hparams(parameter_dict)\n",
        "              train_run(train_dataset, parameter_dict, metrics_dict)\n",
        "\n",
        "            run += 1"
      ],
      "execution_count": 48,
      "outputs": [
        {
          "output_type": "display_data",
          "data": {
            "image/png": "[encoded data removed]",
            "text/plain": [
              "<Figure size 432x288 with 16 Axes>"
            ]
          },
          "metadata": {
            "tags": [],
            "needs_background": "light"
          }
        },
        {
          "output_type": "stream",
          "text": [
            "10/10\t|2.07\t0.34\t0.50\t1.30\t|0.46\t33.79\t|1.6 m\t0.0 m\n"
          ],
          "name": "stdout"
        }
      ]
    },
    {
      "cell_type": "markdown",
      "metadata": {
        "id": "sX7VmiqCCQs2",
        "colab_type": "text"
      },
      "source": [
        "### Evaluate model"
      ]
    },
    {
      "cell_type": "code",
      "metadata": {
        "id": "DFH6aAMFeODN",
        "colab_type": "code",
        "colab": {}
      },
      "source": [
        "if not _SHOWCASE: # Visualize metrics in TensorBoard\n",
        "  %tensorboard --logdir logs/"
      ],
      "execution_count": 49,
      "outputs": []
    },
    {
      "cell_type": "code",
      "metadata": {
        "id": "lGYb2BLBWv0l",
        "colab_type": "code",
        "colab": {
          "base_uri": "https://localhost:8080/",
          "height": 1000
        },
        "outputId": "3ad9f2c8-d388-4de4-b056-bffd23aedf81"
      },
      "source": [
        "fig = plt.figure(figsize=(16, 24))\n",
        "\n",
        "for i in range(10):\n",
        "\n",
        "  # Copy\n",
        "  noise = tf.random.normal((16, _INPUT, ), mean=tf.math.truediv(float(i), 10.0))\n",
        "  fake_images = generator(noise, training=False)\n",
        "  fake_output = discriminator(fake_images, training=False)\n",
        "\n",
        "  # Original\n",
        "  real_images = tf.zeros((1, 28, 28), dtype=float)\n",
        "  for image, label, noise in test_dataset.unbatch().take(-1):\n",
        "      if label == i:\n",
        "        real_images = tf.concat([real_images, tf.expand_dims(image, 0)], 0)\n",
        "        if len(real_images) >= 17: \n",
        "          break\n",
        "          \n",
        "  real_images = real_images[1:, :, :]\n",
        "  real_output = discriminator(real_images, training=False)\n",
        "  \n",
        "  ax1 = fig.add_subplot(10, 3, 3*i + 1)\n",
        "  ax1.set_axis_off()\n",
        "  ax1.imshow(fake_images[0], cmap='gray')\n",
        "\n",
        "  ax2 = fig.add_subplot(10, 3, 3*i + 2)\n",
        "  ax2.hist([tf.squeeze(fake_output, axis=-1), tf.squeeze(real_output, axis=-1)])\n",
        "  ax2.axes.set_xticks([-1, 0, 1])\n",
        "  ax2.axes.set_xticklabels(['Copy', 'Unsure', 'Original'])\n",
        "  ax2.legend(['Fake', 'Real'])\n",
        "\n",
        "  ax3 = fig.add_subplot(10, 3, 3*i + 3)\n",
        "  ax1.set_axis_off()\n",
        "  ax3.imshow(real_images[0], cmap='gray')\n",
        "\n",
        "plt.suptitle('Discriminator classification')\n",
        "plt.show()"
      ],
      "execution_count": 50,
      "outputs": [
        {
          "output_type": "display_data",
          "data": {
            "image/png": "[encoded data removed]",
            "text/plain": [
              "<Figure size 1152x1728 with 30 Axes>"
            ]
          },
          "metadata": {
            "tags": [],
            "needs_background": "light"
          }
        }
      ]
    },
    {
      "cell_type": "markdown",
      "metadata": {
        "id": "i_J1Iu__JEDt",
        "colab_type": "text"
      },
      "source": [
        "## Deployment\n"
      ]
    },
    {
      "cell_type": "markdown",
      "metadata": {
        "id": "HULsCxRlnRJ0",
        "colab_type": "text"
      },
      "source": [
        "*   Use model\n",
        "*   Export model\n",
        "*   Export metrics"
      ]
    },
    {
      "cell_type": "markdown",
      "metadata": {
        "id": "xOuWLAxW6r4C",
        "colab_type": "text"
      },
      "source": [
        "### Use model"
      ]
    },
    {
      "cell_type": "code",
      "metadata": {
        "id": "8A_PcOvH6P5X",
        "colab_type": "code",
        "colab": {}
      },
      "source": [
        "def generate_multiple():\n",
        "  \"\"\"Generate multiple digits\n",
        "\n",
        "  Args:\n",
        "    num: Integer\n",
        "  \"\"\"\n",
        "\n",
        "  fig = plt.figure(figsize=(16, 16))\n",
        "\n",
        "  for i in range(4):\n",
        "    fig.add_subplot(4, 4, i+1)\n",
        "    label = np.random.randint(0, high=9)\n",
        "    input_vector = tf.random.normal((1, _INPUT), mean=tf.realdiv(float(label), 10.0))\n",
        "    plt.title(int(label))\n",
        "    image = generate(input_vector)\n",
        "    plt.imshow(image, cmap='gray')\n",
        "    plt.axis('off')\n",
        "\n",
        "  plt.suptitle('Fake data instances')\n",
        "  plt.show()"
      ],
      "execution_count": 51,
      "outputs": []
    },
    {
      "cell_type": "code",
      "metadata": {
        "id": "BqGoOQHukOnV",
        "colab_type": "code",
        "colab": {
          "base_uri": "https://localhost:8080/",
          "height": 269
        },
        "outputId": "bba3ad58-eb8a-41ef-df8a-034c0328f7d8"
      },
      "source": [
        "generate_multiple()"
      ],
      "execution_count": 52,
      "outputs": [
        {
          "output_type": "display_data",
          "data": {
            "image/png": "[encoded data removed]",
            "text/plain": [
              "<Figure size 1152x1152 with 4 Axes>"
            ]
          },
          "metadata": {
            "tags": [],
            "needs_background": "light"
          }
        }
      ]
    },
    {
      "cell_type": "markdown",
      "metadata": {
        "id": "lHKC9GAFQgd6",
        "colab_type": "text"
      },
      "source": [
        "### Export model"
      ]
    },
    {
      "cell_type": "code",
      "metadata": {
        "id": "6pgQod11SZxX",
        "colab_type": "code",
        "colab": {}
      },
      "source": [
        "export = False #@param [\"False\", \"True\"] {type:\"raw\"}\n",
        "if export: # Export model\n",
        "  generator.save('./generator.h5')\n",
        "  discriminator.save('./discriminator.h5')"
      ],
      "execution_count": 53,
      "outputs": []
    },
    {
      "cell_type": "code",
      "metadata": {
        "id": "pSYS4uRRvxFa",
        "colab_type": "code",
        "colab": {}
      },
      "source": [
        "plot = False #@param [\"False\", \"True\"] {type:\"raw\"}\n",
        "if plot:\n",
        "  keras.utils.plot_model(generator, to_file='generator.png', show_shapes=True)\n",
        "  keras.utils.plot_model(discriminator, to_file='discriminator.png', show_shapes=True)"
      ],
      "execution_count": 54,
      "outputs": []
    },
    {
      "cell_type": "markdown",
      "metadata": {
        "id": "YcQJdFGikSi_",
        "colab_type": "text"
      },
      "source": [
        "### Export metrics"
      ]
    },
    {
      "cell_type": "code",
      "metadata": {
        "id": "SK2ywRYGlFtf",
        "colab_type": "code",
        "colab": {}
      },
      "source": [
        "upload = False #@param [\"False\", \"True\"] {type:\"raw\"}\n",
        "if upload:\n",
        "  !tensorboard dev upload --logdir logs \\\n",
        "      --name \"IntSys19\" \\\n",
        "      --description \"Intelligent Systems\""
      ],
      "execution_count": 55,
      "outputs": []
    },
    {
      "cell_type": "code",
      "metadata": {
        "id": "clCAjQgYlT_W",
        "colab_type": "code",
        "colab": {}
      },
      "source": [
        "download = False #@param [\"False\", \"True\"] {type:\"raw\"}\n",
        "if download:\n",
        "  !zip -r logs/logs.zip logs/"
      ],
      "execution_count": 56,
      "outputs": []
    }
  ]
}