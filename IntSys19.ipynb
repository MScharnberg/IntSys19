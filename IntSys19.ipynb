{
  "nbformat": 4,
  "nbformat_minor": 0,
  "metadata": {
    "colab": {
      "name": "IntSys19",
      "provenance": [],
      "collapsed_sections": [],
      "toc_visible": true,
      "authorship_tag": "ABX9TyN9dGo/0Cn0FQ9+kW8J8WaV",
      "include_colab_link": true
    },
    "kernelspec": {
      "name": "python3",
      "display_name": "Python 3"
    },
    "accelerator": "GPU"
  },
  "cells": [
    {
      "cell_type": "markdown",
      "metadata": {
        "id": "view-in-github",
        "colab_type": "text"
      },
      "source": [
        "<a href=\"https://colab.research.google.com/github/MScharnberg/IntSys19/blob/master/IntSys19.ipynb\" target=\"_parent\"><img src=\"https://colab.research.google.com/assets/colab-badge.svg\" alt=\"Open In Colab\"/></a>"
      ]
    },
    {
      "cell_type": "markdown",
      "metadata": {
        "id": "f9nonYttIcY_",
        "colab_type": "text"
      },
      "source": [
        "# IntSys19\n",
        "\n",
        "Intelligent Systems\n",
        "\n",
        "---\n",
        "\n",
        "[@tobias.vossen](mailto:tobias.vossen@study.hs-duesseldorf.de)"
      ]
    },
    {
      "cell_type": "markdown",
      "metadata": {
        "id": "TiwMbYYDInAC",
        "colab_type": "text"
      },
      "source": [
        "1.   First things first\n",
        "2.   Data\n",
        "3.   Model\n",
        "4.   Deployment\n",
        "5.   Exit strategy"
      ]
    },
    {
      "cell_type": "markdown",
      "metadata": {
        "id": "e8YkBWqeIykh",
        "colab_type": "text"
      },
      "source": [
        "## 1. First things first"
      ]
    },
    {
      "cell_type": "markdown",
      "metadata": {
        "id": "_ELyN9zRpUQG",
        "colab_type": "text"
      },
      "source": [
        "### Libraries"
      ]
    },
    {
      "cell_type": "code",
      "metadata": {
        "id": "IvNUbQRsfumZ",
        "colab_type": "code",
        "outputId": "c5f371fb-8df6-43d2-b3b4-40c39ec0a30e",
        "colab": {
          "base_uri": "https://localhost:8080/",
          "height": 34
        }
      },
      "source": [
        "import datetime, os\n",
        "print(datetime.datetime.now().strftime('Last run: %d.%m.%Y'))"
      ],
      "execution_count": 1,
      "outputs": [
        {
          "output_type": "stream",
          "text": [
            "Last run: 30.05.2020\n"
          ],
          "name": "stdout"
        }
      ]
    },
    {
      "cell_type": "code",
      "metadata": {
        "id": "JS0gkzt9JdVi",
        "colab_type": "code",
        "outputId": "3d3c48a4-515b-42e9-cff2-67e34f2a809c",
        "colab": {
          "base_uri": "https://localhost:8080/",
          "height": 68
        }
      },
      "source": [
        "import tensorflow as tf\n",
        "print('TensorFlow version:', tf.__version__)\n",
        "\n",
        "import tensorflow_datasets as tfds\n",
        "print('TensorFlow Datasets version:', tfds.__version__)\n",
        "\n",
        "%load_ext tensorboard\n",
        "from tensorboard import version\n",
        "print('TensorBoard version:', version.VERSION)"
      ],
      "execution_count": 2,
      "outputs": [
        {
          "output_type": "stream",
          "text": [
            "TensorFlow version: 2.2.0\n",
            "TensorFlow Datasets version: 2.1.0\n",
            "TensorBoard version: 2.2.1\n"
          ],
          "name": "stdout"
        }
      ]
    },
    {
      "cell_type": "code",
      "metadata": {
        "id": "n7W0Ax_e_Bh9",
        "colab_type": "code",
        "outputId": "61956809-c817-415c-d1b2-d4129f8f2fdd",
        "colab": {
          "base_uri": "https://localhost:8080/",
          "height": 34
        }
      },
      "source": [
        "from tensorflow import keras\n",
        "print('Keras version:', keras.__version__)"
      ],
      "execution_count": 3,
      "outputs": [
        {
          "output_type": "stream",
          "text": [
            "Keras version: 2.3.0-tf\n"
          ],
          "name": "stdout"
        }
      ]
    },
    {
      "cell_type": "code",
      "metadata": {
        "id": "1QAesapaWvSk",
        "colab_type": "code",
        "outputId": "b82429c2-de27-46b5-c22f-f5fa357cd2c8",
        "colab": {
          "base_uri": "https://localhost:8080/",
          "height": 34
        }
      },
      "source": [
        "import numpy as np\n",
        "print('NumPy version:', np.__version__)"
      ],
      "execution_count": 4,
      "outputs": [
        {
          "output_type": "stream",
          "text": [
            "NumPy version: 1.18.4\n"
          ],
          "name": "stdout"
        }
      ]
    },
    {
      "cell_type": "code",
      "metadata": {
        "id": "Tnbb5rDcF8IE",
        "colab_type": "code",
        "colab": {}
      },
      "source": [
        "%matplotlib inline \n",
        "from matplotlib import pyplot as plt"
      ],
      "execution_count": 0,
      "outputs": []
    },
    {
      "cell_type": "code",
      "metadata": {
        "id": "3rbA5lIR5eOC",
        "colab_type": "code",
        "colab": {}
      },
      "source": [
        "from timeit import default_timer as timer"
      ],
      "execution_count": 0,
      "outputs": []
    },
    {
      "cell_type": "markdown",
      "metadata": {
        "id": "YIfIY-EJpW5-",
        "colab_type": "text"
      },
      "source": [
        "### Environment"
      ]
    },
    {
      "cell_type": "code",
      "metadata": {
        "id": "4vrcp-AC4vJS",
        "colab_type": "code",
        "colab": {}
      },
      "source": [
        "def environment():\n",
        "  \"\"\"Check hardware accelerator for training\"\"\"\n",
        "\n",
        "  if not tf.test.gpu_device_name():\n",
        "    print('Running on CPU')\n",
        "  else:\n",
        "    print('Running on GPU')"
      ],
      "execution_count": 0,
      "outputs": []
    },
    {
      "cell_type": "markdown",
      "metadata": {
        "id": "raViJwBI4xm8",
        "colab_type": "text"
      },
      "source": [
        "### Logging"
      ]
    },
    {
      "cell_type": "code",
      "metadata": {
        "id": "PwnXar4i41fI",
        "colab_type": "code",
        "colab": {}
      },
      "source": [
        "def logging():\n",
        "  \"\"\"Create directory for logging\"\"\"\n",
        "\n",
        "  logdir = os.path.join('logs', datetime.datetime.now().strftime('%Y-%m-%d'))\n",
        "  print('Logs will be written to', logdir)\n",
        "  return tf.summary.create_file_writer(logdir)"
      ],
      "execution_count": 0,
      "outputs": []
    },
    {
      "cell_type": "markdown",
      "metadata": {
        "id": "T2MYmW2rJDd8",
        "colab_type": "text"
      },
      "source": [
        "## 2. Data"
      ]
    },
    {
      "cell_type": "markdown",
      "metadata": {
        "id": "RX6GQRHMzsPw",
        "colab_type": "text"
      },
      "source": [
        "*   Choose dataset\n",
        "*   Load dataset\n",
        "*   Explore dataset\n",
        "*   Preprocess dataset\n"
      ]
    },
    {
      "cell_type": "code",
      "metadata": {
        "id": "1Ssv8skfy5Xo",
        "colab_type": "code",
        "colab": {}
      },
      "source": [
        "# Global data parameter\n",
        "bs = 64 #@param {type:\"slider\", min:64, max:256, step:64}\n",
        "ds = 'mnist' # String identifier for dataset\n",
        "dim = 28 # Image dimension"
      ],
      "execution_count": 0,
      "outputs": []
    },
    {
      "cell_type": "markdown",
      "metadata": {
        "id": "kJ-DKod5h_BQ",
        "colab_type": "text"
      },
      "source": [
        "### Choose dataset"
      ]
    },
    {
      "cell_type": "code",
      "metadata": {
        "id": "FV7ZoUc_W9PO",
        "colab_type": "code",
        "colab": {}
      },
      "source": [
        ""
      ],
      "execution_count": 0,
      "outputs": []
    },
    {
      "cell_type": "markdown",
      "metadata": {
        "id": "Qj2k58s4wPmo",
        "colab_type": "text"
      },
      "source": [
        "### Load dataset"
      ]
    },
    {
      "cell_type": "code",
      "metadata": {
        "id": "TFoVL9EJiEBX",
        "colab_type": "code",
        "colab": {}
      },
      "source": [
        "def load_dataset(ds):\n",
        "  \"\"\"Load dataset by means of TFDS (TensorFlow Datasets)\n",
        "  \n",
        "  Args:\n",
        "    dataset: str\n",
        "  \n",
        "  Returns:\n",
        "    train: tf.data.Dataset\n",
        "    test: tf.data.Dataset\n",
        "  \"\"\"\n",
        "\n",
        "  (train, test) = tfds.load(ds,\n",
        "                            split=['train[:50%]', 'test[:50%]'],\n",
        "                            shuffle_files=True,\n",
        "                            as_supervised=True)\n",
        "\n",
        "  assert isinstance(train, tf.data.Dataset)\n",
        "  assert isinstance(test, tf.data.Dataset)\n",
        "  return train, test"
      ],
      "execution_count": 0,
      "outputs": []
    },
    {
      "cell_type": "markdown",
      "metadata": {
        "id": "WBstOfxzxW_J",
        "colab_type": "text"
      },
      "source": [
        "### Explore dataset"
      ]
    },
    {
      "cell_type": "code",
      "metadata": {
        "id": "07qh9L0Xzyhi",
        "colab_type": "code",
        "colab": {}
      },
      "source": [
        "def visualize(ds):\n",
        "  \"\"\"Visualize dataset\n",
        "  \n",
        "  Args:\n",
        "    ds: tf.data.Dataset\n",
        "  \n",
        "  Returns:\n",
        "    fig: plt.figure\n",
        "  \"\"\"\n",
        "\n",
        "  ds = ds.unbatch()\n",
        "  fig = plt.figure(figsize=(16, 16))\n",
        "  i = 0\n",
        "  for example in ds.take(36):\n",
        "    fig.add_subplot(6, 6, i+1)\n",
        "    plt.imshow(tf.squeeze(example[0], -1), cmap='gray')\n",
        "    plt.axis('off')\n",
        "    i = i+1\n",
        "  plt.show()\n",
        "  return fig"
      ],
      "execution_count": 0,
      "outputs": []
    },
    {
      "cell_type": "markdown",
      "metadata": {
        "id": "YtkNOyStwheZ",
        "colab_type": "text"
      },
      "source": [
        "### Preprocess dataset"
      ]
    },
    {
      "cell_type": "code",
      "metadata": {
        "id": "O_ID5Tm4whTY",
        "colab_type": "code",
        "colab": {}
      },
      "source": [
        "def normalize(image, label):\n",
        "  \"\"\"Normalize dataset \n",
        "  \n",
        "  Normalize:\n",
        "    Cast -> Normalize\n",
        "\n",
        "  Args:\n",
        "    image: tf.Tensor as Integer\n",
        "    label: tf.Tensor as Integer\n",
        "  \n",
        "  Returns:\n",
        "    image: tf.Tensor as Float\n",
        "    label: tf.Tensor as Integer\n",
        "  \"\"\"\n",
        "\n",
        "  image = tf.cast(image, tf.float32) # 0...255\n",
        "  image = (image - 127.5) / 127.5 # -1...1\n",
        "  return image, label"
      ],
      "execution_count": 0,
      "outputs": []
    },
    {
      "cell_type": "code",
      "metadata": {
        "id": "z8ARF2VGwimg",
        "colab_type": "code",
        "colab": {}
      },
      "source": [
        "def preprocess(ds, shuffle=True, batch=True):\n",
        "  \"\"\"Preprocess dataset\n",
        "\n",
        "  Preprocess: \n",
        "    Normalize -> Shuffle -> Batch\n",
        "  \n",
        "  Args:\n",
        "    ds: tf.data.Dataset\n",
        "    shuffle: boolean\n",
        "    batch: boolean\n",
        "  \n",
        "  Returns:\n",
        "    ds: tf.data.Dataset\n",
        "  \"\"\"\n",
        "\n",
        "  ds = ds.map(normalize)\n",
        "  if shuffle: ds = ds.shuffle(shuffle_size)\n",
        "  if batch: ds = ds.batch(bs, drop_remainder=True)\n",
        "  return ds"
      ],
      "execution_count": 0,
      "outputs": []
    },
    {
      "cell_type": "markdown",
      "metadata": {
        "id": "_MPEQGQC0PMz",
        "colab_type": "text"
      },
      "source": [
        "### Run data domain"
      ]
    },
    {
      "cell_type": "code",
      "metadata": {
        "id": "K0J6DTi00QYn",
        "colab_type": "code",
        "outputId": "46c18c08-f870-4c70-8083-219895e10784",
        "colab": {
          "base_uri": "https://localhost:8080/",
          "height": 1000
        }
      },
      "source": [
        "# Load dataset\n",
        "train, test = load_dataset(ds)\n",
        "\n",
        "# Preprocess dataset\n",
        "train = preprocess(train, shuffle=False)\n",
        "test = preprocess(test, shuffle=False)\n",
        "\n",
        "# Visualize dataset\n",
        "visualize(train)"
      ],
      "execution_count": 14,
      "outputs": [
        {
          "output_type": "display_data",
          "data": {
            "image/png": "[encoded data removed]",
            "text/plain": [
              "<Figure size 1152x1152 with 36 Axes>"
            ]
          },
          "metadata": {
            "tags": [],
            "needs_background": "light"
          }
        },
        {
          "output_type": "execute_result",
          "data": {
            "image/png": "[encoded data removed]",
            "text/plain": [
              "<Figure size 1152x1152 with 36 Axes>"
            ]
          },
          "metadata": {
            "tags": []
          },
          "execution_count": 14
        }
      ]
    },
    {
      "cell_type": "markdown",
      "metadata": {
        "id": "CldSQqmFJD8W",
        "colab_type": "text"
      },
      "source": [
        "## 3. Model"
      ]
    },
    {
      "cell_type": "markdown",
      "metadata": {
        "id": "qDldTil11sjk",
        "colab_type": "text"
      },
      "source": [
        "*   Choose model\n",
        "*   Compile model\n",
        "*   Train model\n",
        "*   Evaluate model"
      ]
    },
    {
      "cell_type": "code",
      "metadata": {
        "id": "jPzROZau8FvF",
        "colab_type": "code",
        "colab": {}
      },
      "source": [
        "# Global model parameter\n",
        "epochs = 10 #@param {type:\"slider\", min:10, max:100, step:10}\n",
        "lr = 1e-3 # Learning rate"
      ],
      "execution_count": 0,
      "outputs": []
    },
    {
      "cell_type": "markdown",
      "metadata": {
        "id": "txpKZWzK78JT",
        "colab_type": "text"
      },
      "source": [
        "### Choose model"
      ]
    },
    {
      "cell_type": "markdown",
      "metadata": {
        "id": "Y-JBPskcwrUm",
        "colab_type": "text"
      },
      "source": [
        "#### Generator"
      ]
    },
    {
      "cell_type": "code",
      "metadata": {
        "id": "tQKP4letJcpt",
        "colab_type": "code",
        "colab": {}
      },
      "source": [
        "def get_generator():\n",
        "  \"\"\" Generator as faking model\n",
        "  \n",
        "  Architecture: Encoder-Decoder\n",
        "    Input -> Dense -> Reshape -> Convolution -> Normalization -> Activation ->\n",
        "    Inverse Convolution\n",
        "              \n",
        "  Returns:\n",
        "    keras.Model\n",
        "  \"\"\"\n",
        "\n",
        "  first = keras.Input(shape=(196, ))\n",
        "  layer = keras.layers.Dense(196)(first)\n",
        "  layer = keras.layers.Reshape((7, 7, 4))(layer)\n",
        "\n",
        "  for i in range(2):\n",
        "    layer = keras.layers.Conv2DTranspose(8*2**i, (3, 3), strides=2, padding='same')(layer)\n",
        "    layer = keras.layers.BatchNormalization()(layer)\n",
        "    layer = keras.layers.LeakyReLU()(layer)\n",
        "  \n",
        "  last = keras.layers.Conv2DTranspose(1, (3, 3), strides=1, padding='same', activation='tanh')(layer)\n",
        "\n",
        "  return keras.Model(inputs=first, outputs=last, name='Generator')"
      ],
      "execution_count": 0,
      "outputs": []
    },
    {
      "cell_type": "markdown",
      "metadata": {
        "id": "cCucjQ_PwxLf",
        "colab_type": "text"
      },
      "source": [
        "#### Discriminator"
      ]
    },
    {
      "cell_type": "code",
      "metadata": {
        "id": "oYsDpECFwxPa",
        "colab_type": "code",
        "colab": {}
      },
      "source": [
        "def get_discriminator():\n",
        "  \"\"\" Discriminator as expertise model\n",
        "  \n",
        "  Architecture: Encoder\n",
        "    Input -> Convolution -> Normalization -> Activation -> Flatten -> Dense\n",
        "              \n",
        "  Returns:\n",
        "    keras.Model\n",
        "  \"\"\"\n",
        "\n",
        "  first = keras.Input(shape=(dim, dim, 1))\n",
        "  layer = first\n",
        "\n",
        "  for i in reversed(range(2)):\n",
        "    layer = keras.layers.Conv2D(8*2**i, (3, 3), strides=2, padding='same')(layer)\n",
        "    layer = keras.layers.BatchNormalization()(layer)\n",
        "    layer = keras.layers.LeakyReLU()(layer)\n",
        "\n",
        "  layer = keras.layers.Flatten()(layer)\n",
        "  layer = keras.layers.Dense(98)(layer)\n",
        "  last = keras.layers.Dense(1)(layer)\n",
        "\n",
        "  return keras.Model(inputs=first, outputs=last, name='Discriminator')"
      ],
      "execution_count": 0,
      "outputs": []
    },
    {
      "cell_type": "code",
      "metadata": {
        "id": "Xy0xr0dSmC_1",
        "colab_type": "code",
        "colab": {
          "base_uri": "https://localhost:8080/",
          "height": 34
        },
        "outputId": "4902c493-5ff5-4fbe-a88e-6bf9213fed7d"
      },
      "source": [
        "get_generator()"
      ],
      "execution_count": 18,
      "outputs": [
        {
          "output_type": "execute_result",
          "data": {
            "text/plain": [
              "<tensorflow.python.keras.engine.training.Model at 0x7f73cf89c780>"
            ]
          },
          "metadata": {
            "tags": []
          },
          "execution_count": 18
        }
      ]
    },
    {
      "cell_type": "markdown",
      "metadata": {
        "id": "GLBusJTjw1KQ",
        "colab_type": "text"
      },
      "source": [
        "### Compile model"
      ]
    },
    {
      "cell_type": "code",
      "metadata": {
        "id": "NUbju1Tpw1qx",
        "colab_type": "code",
        "colab": {}
      },
      "source": [
        "def objective():\n",
        "  \"\"\"Binary crossentropy objective function\n",
        "  \n",
        "  Returns:\n",
        "    keras.losses \n",
        "  \"\"\"\n",
        "\n",
        "  return keras.losses.BinaryCrossentropy(from_logits=True)"
      ],
      "execution_count": 0,
      "outputs": []
    },
    {
      "cell_type": "code",
      "metadata": {
        "id": "LcgE2Mh8E6Os",
        "colab_type": "code",
        "colab": {}
      },
      "source": [
        "def generator_loss(fake_output):\n",
        "  \"\"\"Generator loss\n",
        "  \n",
        "  Returns:\n",
        "    generator_loss: tf.Tensor as Float\n",
        "  \"\"\"\n",
        "\n",
        "  generator_loss = loss_fn(tf.ones_like(fake_output), fake_output)\n",
        "  return generator_loss"
      ],
      "execution_count": 0,
      "outputs": []
    },
    {
      "cell_type": "code",
      "metadata": {
        "id": "0iZ-QZOME6WF",
        "colab_type": "code",
        "colab": {}
      },
      "source": [
        "def discriminator_loss(real_output, fake_output):\n",
        "  \"\"\"Discriminator loss\n",
        "  \n",
        "  Returns:\n",
        "    discriminator_loss: tf.Tensor as Float\n",
        "    loss_quotient: tf.Tensor as Float\n",
        "  \"\"\"\n",
        "\n",
        "  real_loss = loss_fn(tf.ones_like(real_output), real_output)\n",
        "  fake_loss = loss_fn(tf.zeros_like(fake_output), fake_output)\n",
        "  discriminator_loss = real_loss + fake_loss\n",
        "  loss_quotient = real_loss / fake_loss\n",
        "  return discriminator_loss, loss_quotient"
      ],
      "execution_count": 0,
      "outputs": []
    },
    {
      "cell_type": "code",
      "metadata": {
        "id": "pXyDCvJOFI0W",
        "colab_type": "code",
        "colab": {}
      },
      "source": [
        "def optimizer(learning_rate=lr):\n",
        "  \"\"\"Adam optimizer with exponential decay, as learning rate decreases over time\n",
        "  \n",
        "  Args:\n",
        "    learning_rate: tf.float32\n",
        "  \n",
        "  Returns:\n",
        "    keras.optimizer\n",
        "  \"\"\"\n",
        "  \n",
        "  schedule = keras.optimizers.schedules.ExponentialDecay(\n",
        "      learning_rate,\n",
        "      decay_steps=10,\n",
        "      decay_rate=0.96)\n",
        "\n",
        "  return tf.keras.optimizers.Adam(schedule)"
      ],
      "execution_count": 0,
      "outputs": []
    },
    {
      "cell_type": "markdown",
      "metadata": {
        "id": "yAHJU6Gww3_X",
        "colab_type": "text"
      },
      "source": [
        "### Train model"
      ]
    },
    {
      "cell_type": "code",
      "metadata": {
        "id": "ZlbeBpOBw6Ve",
        "colab_type": "code",
        "colab": {}
      },
      "source": [
        "def train_step(images, noise):\n",
        "  \"\"\"Train step\n",
        "  \n",
        "  Step:\n",
        "    Generate fake images -> Update evaluation metrics -> Let Discriminator\n",
        "    classify -> Compute losses -> Update loss metrics -> Compute gradients ->\n",
        "    Apply gradients\n",
        "\n",
        "  Args:\n",
        "    images: tf.Tensor as Float\n",
        "      Real data distribution\n",
        "    noise: tf.Tensor as Float\n",
        "      Imaginary data distribution\n",
        "  \"\"\"\n",
        "\n",
        "  with tf.GradientTape() as gen_tape, tf.GradientTape() as disc_tape:\n",
        "\n",
        "    generated_images = generator(noise, training=True)\n",
        "\n",
        "    metrics['eval/kld'].update_state(images, generated_images)\n",
        "    metrics['eval/mse'].update_state(images, generated_images)\n",
        "    \n",
        "    real_output = discriminator(images, training=True)\n",
        "    fake_output = discriminator(generated_images, training=True)\n",
        "\n",
        "    gen_loss = generator_loss(fake_output)\n",
        "    metrics['loss/generator'].update_state(gen_loss)\n",
        "    disc_loss, realVSfake = discriminator_loss(real_output, fake_output)\n",
        "    metrics['loss/discriminator'].update_state(disc_loss)\n",
        "    metrics['loss/realVSfake'].update_state(realVSfake)\n",
        "\n",
        "  gradients_of_generator = gen_tape.gradient(gen_loss, generator.trainable_variables)\n",
        "  gradients_of_discriminator = disc_tape.gradient(disc_loss, discriminator.trainable_variables)\n",
        "\n",
        "  optimizer().apply_gradients(zip(gradients_of_generator, generator.trainable_variables))\n",
        "  optimizer().apply_gradients(zip(gradients_of_discriminator, discriminator.trainable_variables))"
      ],
      "execution_count": 0,
      "outputs": []
    },
    {
      "cell_type": "code",
      "metadata": {
        "id": "zI70WA96FieX",
        "colab_type": "code",
        "colab": {}
      },
      "source": [
        "def train_model(dataset):\n",
        "  \"\"\"Train model\n",
        "  \n",
        "  Train:\n",
        "    Iterate over epochs -> Iterate over batches -> Train step per batch ->\n",
        "    Save (and reset) metrics\n",
        "\n",
        "  Args:\n",
        "    images: tf.data.Dataset\n",
        "  \"\"\"\n",
        "  \n",
        "  environment()\n",
        "\n",
        "  for epoch in range(1, epochs+1): # Iterate over epochs\n",
        "\n",
        "    start = timer()\n",
        "    print('Start of epoch %i of %i epochs' % (epoch, epochs))\n",
        "\n",
        "    for batch in dataset: # Iterate over batches\n",
        "      image_batch = batch[0]\n",
        "      noise = tf.random.normal([bs, 196])\n",
        "      train_step(image_batch, noise)\n",
        "\n",
        "    with summary_writer.as_default(): # Save (and reset) metrics\n",
        "      tf.summary.histogram('input/noise', noise[-1], step=epoch)\n",
        "      tf.summary.image('output/digit', generator(tf.expand_dims(noise[-1], 0), training=False), step=epoch)\n",
        "      tf.summary.scalar('optimizer/lr', optimizer().lr(epoch), step=epoch)\n",
        "\n",
        "      for key, metric in metrics.items(): # Loss metrics\n",
        "        tf.summary.scalar(key, metric.result(), step=epoch) \n",
        "        metric.reset_states()\n",
        "\n",
        "    print('Time for epoch %i is %is' % (epoch, timer()-start))"
      ],
      "execution_count": 0,
      "outputs": []
    },
    {
      "cell_type": "markdown",
      "metadata": {
        "id": "sX7VmiqCCQs2",
        "colab_type": "text"
      },
      "source": [
        "### Evaluate model"
      ]
    },
    {
      "cell_type": "code",
      "metadata": {
        "id": "Z_xEOK2sVt45",
        "colab_type": "code",
        "colab": {
          "base_uri": "https://localhost:8080/",
          "height": 34
        },
        "outputId": "708b7d08-3657-4b56-f49d-8742d00d24e8"
      },
      "source": [
        "summary_writer = logging()"
      ],
      "execution_count": 25,
      "outputs": [
        {
          "output_type": "stream",
          "text": [
            "Logs will be written to logs/2020-05-30\n"
          ],
          "name": "stdout"
        }
      ]
    },
    {
      "cell_type": "code",
      "metadata": {
        "id": "sHn4rAt2sPXF",
        "colab_type": "code",
        "colab": {}
      },
      "source": [
        "metrics = {\n",
        "  'loss/generator' : keras.metrics.Mean(),\n",
        "  'loss/discriminator' : keras.metrics.Mean(),\n",
        "  'loss/realVSfake' : keras.metrics.Mean(),\n",
        "  'eval/kld' : keras.metrics.KLDivergence(),\n",
        "  'eval/mse' : keras.metrics.MeanSquaredError()\n",
        "}"
      ],
      "execution_count": 0,
      "outputs": []
    },
    {
      "cell_type": "markdown",
      "metadata": {
        "id": "XJNRQVrq3BEO",
        "colab_type": "text"
      },
      "source": [
        "### Run model domain"
      ]
    },
    {
      "cell_type": "code",
      "metadata": {
        "id": "IgjINceG3CKv",
        "colab_type": "code",
        "outputId": "b0346168-75b7-4005-d782-39521cec9457",
        "colab": {
          "base_uri": "https://localhost:8080/",
          "height": 493
        }
      },
      "source": [
        "generator = get_generator()\n",
        "generator.summary()"
      ],
      "execution_count": 27,
      "outputs": [
        {
          "output_type": "stream",
          "text": [
            "Model: \"Generator\"\n",
            "_________________________________________________________________\n",
            "Layer (type)                 Output Shape              Param #   \n",
            "=================================================================\n",
            "input_2 (InputLayer)         [(None, 196)]             0         \n",
            "_________________________________________________________________\n",
            "dense_1 (Dense)              (None, 196)               38612     \n",
            "_________________________________________________________________\n",
            "reshape_1 (Reshape)          (None, 7, 7, 4)           0         \n",
            "_________________________________________________________________\n",
            "conv2d_transpose_3 (Conv2DTr (None, 14, 14, 8)         296       \n",
            "_________________________________________________________________\n",
            "batch_normalization_2 (Batch (None, 14, 14, 8)         32        \n",
            "_________________________________________________________________\n",
            "leaky_re_lu_2 (LeakyReLU)    (None, 14, 14, 8)         0         \n",
            "_________________________________________________________________\n",
            "conv2d_transpose_4 (Conv2DTr (None, 28, 28, 16)        1168      \n",
            "_________________________________________________________________\n",
            "batch_normalization_3 (Batch (None, 28, 28, 16)        64        \n",
            "_________________________________________________________________\n",
            "leaky_re_lu_3 (LeakyReLU)    (None, 28, 28, 16)        0         \n",
            "_________________________________________________________________\n",
            "conv2d_transpose_5 (Conv2DTr (None, 28, 28, 1)         145       \n",
            "=================================================================\n",
            "Total params: 40,317\n",
            "Trainable params: 40,269\n",
            "Non-trainable params: 48\n",
            "_________________________________________________________________\n"
          ],
          "name": "stdout"
        }
      ]
    },
    {
      "cell_type": "code",
      "metadata": {
        "id": "j0ntf5qi3M6x",
        "colab_type": "code",
        "outputId": "00088ee4-d616-4c4c-de17-3cd36a0ebd9e",
        "colab": {
          "base_uri": "https://localhost:8080/",
          "height": 493
        }
      },
      "source": [
        "discriminator = get_discriminator()\n",
        "discriminator.summary()"
      ],
      "execution_count": 28,
      "outputs": [
        {
          "output_type": "stream",
          "text": [
            "Model: \"Discriminator\"\n",
            "_________________________________________________________________\n",
            "Layer (type)                 Output Shape              Param #   \n",
            "=================================================================\n",
            "input_3 (InputLayer)         [(None, 28, 28, 1)]       0         \n",
            "_________________________________________________________________\n",
            "conv2d (Conv2D)              (None, 14, 14, 16)        160       \n",
            "_________________________________________________________________\n",
            "batch_normalization_4 (Batch (None, 14, 14, 16)        64        \n",
            "_________________________________________________________________\n",
            "leaky_re_lu_4 (LeakyReLU)    (None, 14, 14, 16)        0         \n",
            "_________________________________________________________________\n",
            "conv2d_1 (Conv2D)            (None, 7, 7, 8)           1160      \n",
            "_________________________________________________________________\n",
            "batch_normalization_5 (Batch (None, 7, 7, 8)           32        \n",
            "_________________________________________________________________\n",
            "leaky_re_lu_5 (LeakyReLU)    (None, 7, 7, 8)           0         \n",
            "_________________________________________________________________\n",
            "flatten (Flatten)            (None, 392)               0         \n",
            "_________________________________________________________________\n",
            "dense_2 (Dense)              (None, 98)                38514     \n",
            "_________________________________________________________________\n",
            "dense_3 (Dense)              (None, 1)                 99        \n",
            "=================================================================\n",
            "Total params: 40,029\n",
            "Trainable params: 39,981\n",
            "Non-trainable params: 48\n",
            "_________________________________________________________________\n"
          ],
          "name": "stdout"
        }
      ]
    },
    {
      "cell_type": "code",
      "metadata": {
        "id": "5h0L97OHKI08",
        "colab_type": "code",
        "colab": {}
      },
      "source": [
        "loss_fn = objective()"
      ],
      "execution_count": 0,
      "outputs": []
    },
    {
      "cell_type": "code",
      "metadata": {
        "id": "GhUNgwtI4Cks",
        "colab_type": "code",
        "outputId": "22fbbf7f-642e-4ff9-c806-7767648a651f",
        "colab": {
          "base_uri": "https://localhost:8080/",
          "height": 374
        }
      },
      "source": [
        "train_model(train)"
      ],
      "execution_count": 30,
      "outputs": [
        {
          "output_type": "stream",
          "text": [
            "Running on GPU\n",
            "Start of epoch 1 of 10 epochs\n",
            "Time for epoch 1 is 42s\n",
            "Start of epoch 2 of 10 epochs\n",
            "Time for epoch 2 is 42s\n",
            "Start of epoch 3 of 10 epochs\n",
            "Time for epoch 3 is 42s\n",
            "Start of epoch 4 of 10 epochs\n",
            "Time for epoch 4 is 41s\n",
            "Start of epoch 5 of 10 epochs\n",
            "Time for epoch 5 is 41s\n",
            "Start of epoch 6 of 10 epochs\n",
            "Time for epoch 6 is 42s\n",
            "Start of epoch 7 of 10 epochs\n",
            "Time for epoch 7 is 41s\n",
            "Start of epoch 8 of 10 epochs\n",
            "Time for epoch 8 is 42s\n",
            "Start of epoch 9 of 10 epochs\n",
            "Time for epoch 9 is 42s\n",
            "Start of epoch 10 of 10 epochs\n",
            "Time for epoch 10 is 43s\n"
          ],
          "name": "stdout"
        }
      ]
    },
    {
      "cell_type": "code",
      "metadata": {
        "id": "DFH6aAMFeODN",
        "colab_type": "code",
        "colab": {}
      },
      "source": [
        "board = False #@param [\"False\", \"True\"] {type:\"raw\"}\n",
        "if board: # Visualize metrics in TensorBoard\n",
        "  %tensorboard --logdir logs/"
      ],
      "execution_count": 0,
      "outputs": []
    },
    {
      "cell_type": "markdown",
      "metadata": {
        "id": "i_J1Iu__JEDt",
        "colab_type": "text"
      },
      "source": [
        "## 4. Deployment\n"
      ]
    },
    {
      "cell_type": "code",
      "metadata": {
        "id": "5mhmgmgKWyfm",
        "colab_type": "code",
        "colab": {}
      },
      "source": [
        "# Global deployment parameter"
      ],
      "execution_count": 0,
      "outputs": []
    },
    {
      "cell_type": "markdown",
      "metadata": {
        "id": "xOuWLAxW6r4C",
        "colab_type": "text"
      },
      "source": [
        "### Use model"
      ]
    },
    {
      "cell_type": "code",
      "metadata": {
        "id": "8A_PcOvH6P5X",
        "colab_type": "code",
        "colab": {}
      },
      "source": [
        "def predict():\n",
        "  \"\"\" Generate digits\n",
        "\n",
        "  Predict:\n",
        "    Prediction -> Visualization \n",
        "\n",
        "  Returns:\n",
        "    plt.fig\n",
        "  \"\"\"\n",
        "\n",
        "  fig = plt.figure(figsize=(16, 16))\n",
        "\n",
        "  for i in range(36): # Generate 36 digits\n",
        "    fig.add_subplot(6, 6, i+1)\n",
        "  \n",
        "    # Prediction\n",
        "    noise = tf.random.normal([1, 196]) # (bs, 196)\n",
        "    prediction = generator(noise, training=False) # (bs, 28, 28, 1)\n",
        "\n",
        "    # Visualization\n",
        "    prediction = tf.squeeze(prediction, 0) # (28, 28, 1)\n",
        "    plt.imshow(tf.squeeze(prediction, -1), cmap='gray') # (28, 28)\n",
        "    plt.axis('off')\n",
        "\n",
        "  plt.show()\n",
        "  return fig"
      ],
      "execution_count": 0,
      "outputs": []
    },
    {
      "cell_type": "markdown",
      "metadata": {
        "id": "lHKC9GAFQgd6",
        "colab_type": "text"
      },
      "source": [
        "### Export model"
      ]
    },
    {
      "cell_type": "code",
      "metadata": {
        "id": "6pgQod11SZxX",
        "colab_type": "code",
        "colab": {}
      },
      "source": [
        "export = False #@param [\"False\", \"True\"] {type:\"raw\"}\n",
        "if export: # Export model\n",
        "  model.save('./generator.h5')"
      ],
      "execution_count": 0,
      "outputs": []
    },
    {
      "cell_type": "markdown",
      "metadata": {
        "id": "lB2idn8vngrW",
        "colab_type": "text"
      },
      "source": [
        "### Run deployment domain"
      ]
    },
    {
      "cell_type": "code",
      "metadata": {
        "id": "MzcbuWkMnguk",
        "colab_type": "code",
        "colab": {
          "base_uri": "https://localhost:8080/",
          "height": 1000
        },
        "outputId": "9e9957c0-b75d-4f00-b02d-9dea30d87dbb"
      },
      "source": [
        "predict()"
      ],
      "execution_count": 35,
      "outputs": [
        {
          "output_type": "display_data",
          "data": {
            "image/png": "[encoded data removed]",
            "text/plain": [
              "<Figure size 1152x1152 with 36 Axes>"
            ]
          },
          "metadata": {
            "tags": [],
            "needs_background": "light"
          }
        },
        {
          "output_type": "execute_result",
          "data": {
            "image/png": "[encoded data removed]",
            "text/plain": [
              "<Figure size 1152x1152 with 36 Axes>"
            ]
          },
          "metadata": {
            "tags": []
          },
          "execution_count": 35
        }
      ]
    },
    {
      "cell_type": "markdown",
      "metadata": {
        "id": "EYHl2-4LKK2f",
        "colab_type": "text"
      },
      "source": [
        "## 5. Exit strategy"
      ]
    },
    {
      "cell_type": "code",
      "metadata": {
        "id": "w8iC6P6h4ldh",
        "colab_type": "code",
        "colab": {}
      },
      "source": [
        "clear = False #@param [\"False\", \"True\"] {type:\"raw\"}\n",
        "if clear: # Clear directory for logging\n",
        "  !rm -rf ./logs/ "
      ],
      "execution_count": 0,
      "outputs": []
    }
  ]
}