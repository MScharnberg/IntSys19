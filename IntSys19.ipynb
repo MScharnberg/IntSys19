{
  "nbformat": 4,
  "nbformat_minor": 0,
  "metadata": {
    "colab": {
      "name": "IntSys19",
      "provenance": [],
      "collapsed_sections": [],
      "toc_visible": true,
      "authorship_tag": "ABX9TyMmd3UlTgneuvjXaMChxc7w",
      "include_colab_link": true
    },
    "kernelspec": {
      "name": "python3",
      "display_name": "Python 3"
    },
    "accelerator": "GPU",
    "widgets": {
      "application/vnd.jupyter.widget-state+json": {
        "629d9b0beb2e4e3dbe383164e590b092": {
          "model_module": "@jupyter-widgets/controls",
          "model_name": "HBoxModel",
          "state": {
            "_view_name": "HBoxView",
            "_dom_classes": [],
            "_model_name": "HBoxModel",
            "_view_module": "@jupyter-widgets/controls",
            "_model_module_version": "1.5.0",
            "_view_count": null,
            "_view_module_version": "1.5.0",
            "box_style": "",
            "layout": "IPY_MODEL_c700df90b0b1469e841f9b5c4552590a",
            "_model_module": "@jupyter-widgets/controls",
            "children": [
              "IPY_MODEL_9c0b69a2b67344e48bf4ec58578bc234",
              "IPY_MODEL_c3a6d6f567ff43ae97f108ffdbaf7419"
            ]
          }
        },
        "c700df90b0b1469e841f9b5c4552590a": {
          "model_module": "@jupyter-widgets/base",
          "model_name": "LayoutModel",
          "state": {
            "_view_name": "LayoutView",
            "grid_template_rows": null,
            "right": null,
            "justify_content": null,
            "_view_module": "@jupyter-widgets/base",
            "overflow": null,
            "_model_module_version": "1.2.0",
            "_view_count": null,
            "flex_flow": null,
            "width": null,
            "min_width": null,
            "border": null,
            "align_items": null,
            "bottom": null,
            "_model_module": "@jupyter-widgets/base",
            "top": null,
            "grid_column": null,
            "overflow_y": null,
            "overflow_x": null,
            "grid_auto_flow": null,
            "grid_area": null,
            "grid_template_columns": null,
            "flex": null,
            "_model_name": "LayoutModel",
            "justify_items": null,
            "grid_row": null,
            "max_height": null,
            "align_content": null,
            "visibility": null,
            "align_self": null,
            "height": null,
            "min_height": null,
            "padding": null,
            "grid_auto_rows": null,
            "grid_gap": null,
            "max_width": null,
            "order": null,
            "_view_module_version": "1.2.0",
            "grid_template_areas": null,
            "object_position": null,
            "object_fit": null,
            "grid_auto_columns": null,
            "margin": null,
            "display": null,
            "left": null
          }
        },
        "9c0b69a2b67344e48bf4ec58578bc234": {
          "model_module": "@jupyter-widgets/controls",
          "model_name": "FloatProgressModel",
          "state": {
            "_view_name": "ProgressView",
            "style": "IPY_MODEL_18a84435f0e5449aabaffd075e6f6d20",
            "_dom_classes": [],
            "description": "Dl Completed...: 100%",
            "_model_name": "FloatProgressModel",
            "bar_style": "success",
            "max": 4,
            "_view_module": "@jupyter-widgets/controls",
            "_model_module_version": "1.5.0",
            "value": 4,
            "_view_count": null,
            "_view_module_version": "1.5.0",
            "orientation": "horizontal",
            "min": 0,
            "description_tooltip": null,
            "_model_module": "@jupyter-widgets/controls",
            "layout": "IPY_MODEL_605db6ea68e1430cbaddbc90901d2911"
          }
        },
        "c3a6d6f567ff43ae97f108ffdbaf7419": {
          "model_module": "@jupyter-widgets/controls",
          "model_name": "HTMLModel",
          "state": {
            "_view_name": "HTMLView",
            "style": "IPY_MODEL_fbb8764aec954f8ab548ea30503b3e72",
            "_dom_classes": [],
            "description": "",
            "_model_name": "HTMLModel",
            "placeholder": "​",
            "_view_module": "@jupyter-widgets/controls",
            "_model_module_version": "1.5.0",
            "value": " 4/4 [00:08&lt;00:00,  2.11s/ file]",
            "_view_count": null,
            "_view_module_version": "1.5.0",
            "description_tooltip": null,
            "_model_module": "@jupyter-widgets/controls",
            "layout": "IPY_MODEL_9ec67cf365a84c95a50c38d6c5946fc3"
          }
        },
        "18a84435f0e5449aabaffd075e6f6d20": {
          "model_module": "@jupyter-widgets/controls",
          "model_name": "ProgressStyleModel",
          "state": {
            "_view_name": "StyleView",
            "_model_name": "ProgressStyleModel",
            "description_width": "initial",
            "_view_module": "@jupyter-widgets/base",
            "_model_module_version": "1.5.0",
            "_view_count": null,
            "_view_module_version": "1.2.0",
            "bar_color": null,
            "_model_module": "@jupyter-widgets/controls"
          }
        },
        "605db6ea68e1430cbaddbc90901d2911": {
          "model_module": "@jupyter-widgets/base",
          "model_name": "LayoutModel",
          "state": {
            "_view_name": "LayoutView",
            "grid_template_rows": null,
            "right": null,
            "justify_content": null,
            "_view_module": "@jupyter-widgets/base",
            "overflow": null,
            "_model_module_version": "1.2.0",
            "_view_count": null,
            "flex_flow": null,
            "width": null,
            "min_width": null,
            "border": null,
            "align_items": null,
            "bottom": null,
            "_model_module": "@jupyter-widgets/base",
            "top": null,
            "grid_column": null,
            "overflow_y": null,
            "overflow_x": null,
            "grid_auto_flow": null,
            "grid_area": null,
            "grid_template_columns": null,
            "flex": null,
            "_model_name": "LayoutModel",
            "justify_items": null,
            "grid_row": null,
            "max_height": null,
            "align_content": null,
            "visibility": null,
            "align_self": null,
            "height": null,
            "min_height": null,
            "padding": null,
            "grid_auto_rows": null,
            "grid_gap": null,
            "max_width": null,
            "order": null,
            "_view_module_version": "1.2.0",
            "grid_template_areas": null,
            "object_position": null,
            "object_fit": null,
            "grid_auto_columns": null,
            "margin": null,
            "display": null,
            "left": null
          }
        },
        "fbb8764aec954f8ab548ea30503b3e72": {
          "model_module": "@jupyter-widgets/controls",
          "model_name": "DescriptionStyleModel",
          "state": {
            "_view_name": "StyleView",
            "_model_name": "DescriptionStyleModel",
            "description_width": "",
            "_view_module": "@jupyter-widgets/base",
            "_model_module_version": "1.5.0",
            "_view_count": null,
            "_view_module_version": "1.2.0",
            "_model_module": "@jupyter-widgets/controls"
          }
        },
        "9ec67cf365a84c95a50c38d6c5946fc3": {
          "model_module": "@jupyter-widgets/base",
          "model_name": "LayoutModel",
          "state": {
            "_view_name": "LayoutView",
            "grid_template_rows": null,
            "right": null,
            "justify_content": null,
            "_view_module": "@jupyter-widgets/base",
            "overflow": null,
            "_model_module_version": "1.2.0",
            "_view_count": null,
            "flex_flow": null,
            "width": null,
            "min_width": null,
            "border": null,
            "align_items": null,
            "bottom": null,
            "_model_module": "@jupyter-widgets/base",
            "top": null,
            "grid_column": null,
            "overflow_y": null,
            "overflow_x": null,
            "grid_auto_flow": null,
            "grid_area": null,
            "grid_template_columns": null,
            "flex": null,
            "_model_name": "LayoutModel",
            "justify_items": null,
            "grid_row": null,
            "max_height": null,
            "align_content": null,
            "visibility": null,
            "align_self": null,
            "height": null,
            "min_height": null,
            "padding": null,
            "grid_auto_rows": null,
            "grid_gap": null,
            "max_width": null,
            "order": null,
            "_view_module_version": "1.2.0",
            "grid_template_areas": null,
            "object_position": null,
            "object_fit": null,
            "grid_auto_columns": null,
            "margin": null,
            "display": null,
            "left": null
          }
        }
      }
    }
  },
  "cells": [
    {
      "cell_type": "markdown",
      "metadata": {
        "id": "view-in-github",
        "colab_type": "text"
      },
      "source": [
        "<a href=\"https://colab.research.google.com/github/MScharnberg/IntSys19/blob/master/IntSys19.ipynb\" target=\"_parent\"><img src=\"https://colab.research.google.com/assets/colab-badge.svg\" alt=\"Open In Colab\"/></a>"
      ]
    },
    {
      "cell_type": "markdown",
      "metadata": {
        "id": "f9nonYttIcY_",
        "colab_type": "text"
      },
      "source": [
        "# IntSys19\n",
        "\n",
        "Intelligent Systems\n",
        "\n",
        "---\n",
        "\n",
        "[@mats.scharnberg](mailto:mats.scharnberg@study.hs-duesseldorf.de)\n",
        "\n",
        "[@christoph.schneider](mailto:christoph.schneider@study.hs-duesseldorf.de)\n",
        "\n",
        "[@tobias.vossen](mailto:tobias.vossen@study.hs-duesseldorf.de)"
      ]
    },
    {
      "cell_type": "markdown",
      "metadata": {
        "id": "NSQM_Xscc7Iv",
        "colab_type": "text"
      },
      "source": [
        "## Contents"
      ]
    },
    {
      "cell_type": "markdown",
      "metadata": {
        "id": "TiwMbYYDInAC",
        "colab_type": "text"
      },
      "source": [
        "* Setup\n",
        "* Data\n",
        "* Model\n",
        "* Deployment\n",
        "* Exit strategy"
      ]
    },
    {
      "cell_type": "markdown",
      "metadata": {
        "id": "e8YkBWqeIykh",
        "colab_type": "text"
      },
      "source": [
        "## Setup"
      ]
    },
    {
      "cell_type": "markdown",
      "metadata": {
        "id": "OueJ-PIUemId",
        "colab_type": "text"
      },
      "source": [
        "### Magic"
      ]
    },
    {
      "cell_type": "code",
      "metadata": {
        "id": "Qs1lannGekBR",
        "colab_type": "code",
        "colab": {}
      },
      "source": [
        "%matplotlib inline\n",
        "%load_ext tensorboard "
      ],
      "execution_count": 0,
      "outputs": []
    },
    {
      "cell_type": "markdown",
      "metadata": {
        "id": "_ELyN9zRpUQG",
        "colab_type": "text"
      },
      "source": [
        "### Libraries"
      ]
    },
    {
      "cell_type": "code",
      "metadata": {
        "id": "cWgHjJ9HfXx2",
        "colab_type": "code",
        "colab": {}
      },
      "source": [
        "import datetime\n",
        "import os\n",
        "from timeit import default_timer as timer"
      ],
      "execution_count": 0,
      "outputs": []
    },
    {
      "cell_type": "code",
      "metadata": {
        "id": "JS0gkzt9JdVi",
        "colab_type": "code",
        "outputId": "5e2f3d1f-3160-4fb6-d1e2-68646bfa9914",
        "colab": {
          "base_uri": "https://localhost:8080/",
          "height": 102
        }
      },
      "source": [
        "import numpy as np\n",
        "from matplotlib import pyplot as plt\n",
        "from tensorboard import version\n",
        "import tensorflow as tf\n",
        "from tensorflow import keras\n",
        "import tensorflow_datasets as tfds\n",
        "\n",
        "print('Keras version:', keras.__version__)\n",
        "print('NumPy version:', np.__version__)\n",
        "print('TensorBoard version:', version.VERSION)\n",
        "print('TensorFlow version:', tf.__version__)\n",
        "print('TensorFlow Datasets version:', tfds.__version__)"
      ],
      "execution_count": 3,
      "outputs": [
        {
          "output_type": "stream",
          "text": [
            "Keras version: 2.3.0-tf\n",
            "NumPy version: 1.18.4\n",
            "TensorBoard version: 2.2.2\n",
            "TensorFlow version: 2.2.0\n",
            "TensorFlow Datasets version: 2.1.0\n"
          ],
          "name": "stdout"
        }
      ]
    },
    {
      "cell_type": "markdown",
      "metadata": {
        "id": "YIfIY-EJpW5-",
        "colab_type": "text"
      },
      "source": [
        "### Utils"
      ]
    },
    {
      "cell_type": "code",
      "metadata": {
        "id": "4vrcp-AC4vJS",
        "colab_type": "code",
        "colab": {}
      },
      "source": [
        "def check_env():\n",
        "  \"\"\"Check hardware accelerator for training\"\"\"\n",
        "\n",
        "  if not tf.test.gpu_device_name():\n",
        "    print('WARNING: Running on CPU. Training may take a while...\\n')\n",
        "  else:\n",
        "    print('WARNING: Running on GPU. Ressources may be temporarly blocked...\\n')"
      ],
      "execution_count": 0,
      "outputs": []
    },
    {
      "cell_type": "code",
      "metadata": {
        "id": "PwnXar4i41fI",
        "colab_type": "code",
        "colab": {}
      },
      "source": [
        "def get_logs():\n",
        "  \"\"\"Setup logging\"\"\"\n",
        "\n",
        "  logdir = os.path.join('logs', datetime.datetime.now().strftime('%Y-%m-%d'))\n",
        "  print('INFO: Logs will be written to', logdir, '\\n')\n",
        "  return tf.summary.create_file_writer(logdir)"
      ],
      "execution_count": 0,
      "outputs": []
    },
    {
      "cell_type": "code",
      "metadata": {
        "id": "L7J2RuyPjT-h",
        "colab_type": "code",
        "colab": {}
      },
      "source": [
        "def get_metrics():\n",
        "  \"\"\"Setup metrics\"\"\"\n",
        "\n",
        "  metrics = {\n",
        "    'loss/generator' : keras.metrics.Mean(),\n",
        "    'loss/discriminator' : keras.metrics.Mean(),\n",
        "    'loss/realVSfake' : keras.metrics.Mean(),\n",
        "    'eval/kld' : keras.metrics.KLDivergence(),\n",
        "    'eval/mse' : keras.metrics.MeanSquaredError()\n",
        "  }\n",
        "  print('INFO:', len(metrics), 'metrics to measure including...')\n",
        "  for key in metrics.keys():\n",
        "    print(key)\n",
        "  return metrics"
      ],
      "execution_count": 0,
      "outputs": []
    },
    {
      "cell_type": "markdown",
      "metadata": {
        "id": "T2MYmW2rJDd8",
        "colab_type": "text"
      },
      "source": [
        "## Data"
      ]
    },
    {
      "cell_type": "markdown",
      "metadata": {
        "id": "RX6GQRHMzsPw",
        "colab_type": "text"
      },
      "source": [
        "*   Choose dataset\n",
        "*   Load dataset\n",
        "*   Explore dataset\n",
        "*   Preprocess dataset\n",
        "*   Visualize dataset\n"
      ]
    },
    {
      "cell_type": "code",
      "metadata": {
        "id": "1Ssv8skfy5Xo",
        "colab_type": "code",
        "colab": {}
      },
      "source": [
        "# Global data parameter\n",
        "_BS = 64 #@param {type:\"slider\", min:64, max:256, step:64}\n",
        "_DIM = 28 #@param [\"28\"] {type:\"raw\"}\n",
        "_SHAPE = (_DIM, _DIM, 1) # Image shape\n",
        "\n",
        "# Local data parameter\n",
        "ds = 'mnist' # String identifier for dataset"
      ],
      "execution_count": 0,
      "outputs": []
    },
    {
      "cell_type": "code",
      "metadata": {
        "id": "nXj5XEI1lJA1",
        "colab_type": "code",
        "colab": {}
      },
      "source": [
        "_DATA = {\n",
        "    'Batch size' : _BS,\n",
        "    'Image dimension' : _DIM,\n",
        "    'Image shape' : _SHAPE\n",
        "}"
      ],
      "execution_count": 0,
      "outputs": []
    },
    {
      "cell_type": "markdown",
      "metadata": {
        "id": "kJ-DKod5h_BQ",
        "colab_type": "text"
      },
      "source": [
        "### Choose dataset"
      ]
    },
    {
      "cell_type": "code",
      "metadata": {
        "id": "FV7ZoUc_W9PO",
        "colab_type": "code",
        "colab": {}
      },
      "source": [
        "# To do"
      ],
      "execution_count": 0,
      "outputs": []
    },
    {
      "cell_type": "markdown",
      "metadata": {
        "id": "Qj2k58s4wPmo",
        "colab_type": "text"
      },
      "source": [
        "### Load dataset"
      ]
    },
    {
      "cell_type": "code",
      "metadata": {
        "id": "TFoVL9EJiEBX",
        "colab_type": "code",
        "colab": {}
      },
      "source": [
        "def load_dataset(ds):\n",
        "  \"\"\"Load dataset by means of TFDS (TensorFlow Datasets)\n",
        "  \n",
        "  Args:\n",
        "    dataset: str\n",
        "  \n",
        "  Returns:\n",
        "    train: tf.data.Dataset\n",
        "    test: tf.data.Dataset\n",
        "  \"\"\"\n",
        "\n",
        "  (train, test) = tfds.load(ds,\n",
        "                            split=['train', 'test'],\n",
        "                            shuffle_files=True,\n",
        "                            as_supervised=True)\n",
        "  \n",
        "  return train, test"
      ],
      "execution_count": 0,
      "outputs": []
    },
    {
      "cell_type": "code",
      "metadata": {
        "id": "WjkMHdNAhahW",
        "colab_type": "code",
        "colab": {
          "base_uri": "https://localhost:8080/",
          "height": 202,
          "referenced_widgets": [
            "629d9b0beb2e4e3dbe383164e590b092",
            "c700df90b0b1469e841f9b5c4552590a",
            "9c0b69a2b67344e48bf4ec58578bc234",
            "c3a6d6f567ff43ae97f108ffdbaf7419",
            "18a84435f0e5449aabaffd075e6f6d20",
            "605db6ea68e1430cbaddbc90901d2911",
            "fbb8764aec954f8ab548ea30503b3e72",
            "9ec67cf365a84c95a50c38d6c5946fc3"
          ]
        },
        "outputId": "3a0c03aa-5275-49b5-f06a-9ac444d9dd53"
      },
      "source": [
        "train, test = load_dataset(ds)"
      ],
      "execution_count": 11,
      "outputs": [
        {
          "output_type": "stream",
          "text": [
            "WARNING:absl:Dataset mnist is hosted on GCS. It will automatically be downloaded to your\n",
            "local data directory. If you'd instead prefer to read directly from our public\n",
            "GCS bucket (recommended if you're running on GCP), you can instead set\n",
            "data_dir=gs://tfds-data/datasets.\n",
            "\n"
          ],
          "name": "stderr"
        },
        {
          "output_type": "stream",
          "text": [
            "\u001b[1mDownloading and preparing dataset mnist/3.0.0 (download: 11.06 MiB, generated: Unknown size, total: 11.06 MiB) to /root/tensorflow_datasets/mnist/3.0.0...\u001b[0m\n"
          ],
          "name": "stdout"
        },
        {
          "output_type": "display_data",
          "data": {
            "application/vnd.jupyter.widget-view+json": {
              "model_id": "629d9b0beb2e4e3dbe383164e590b092",
              "version_minor": 0,
              "version_major": 2
            },
            "text/plain": [
              "HBox(children=(FloatProgress(value=0.0, description='Dl Completed...', max=4.0, style=ProgressStyle(descriptio…"
            ]
          },
          "metadata": {
            "tags": []
          }
        },
        {
          "output_type": "stream",
          "text": [
            "\n",
            "\n",
            "\u001b[1mDataset mnist downloaded and prepared to /root/tensorflow_datasets/mnist/3.0.0. Subsequent calls will reuse this data.\u001b[0m\n"
          ],
          "name": "stdout"
        }
      ]
    },
    {
      "cell_type": "markdown",
      "metadata": {
        "id": "WBstOfxzxW_J",
        "colab_type": "text"
      },
      "source": [
        "### Explore dataset"
      ]
    },
    {
      "cell_type": "code",
      "metadata": {
        "id": "c4IQlSS2hzhD",
        "colab_type": "code",
        "colab": {}
      },
      "source": [
        "# To do"
      ],
      "execution_count": 0,
      "outputs": []
    },
    {
      "cell_type": "markdown",
      "metadata": {
        "id": "YtkNOyStwheZ",
        "colab_type": "text"
      },
      "source": [
        "### Preprocess dataset"
      ]
    },
    {
      "cell_type": "code",
      "metadata": {
        "id": "O_ID5Tm4whTY",
        "colab_type": "code",
        "colab": {}
      },
      "source": [
        "def normalize(image, label):\n",
        "  \"\"\"Normalize dataset \n",
        "  \n",
        "  Normalize:\n",
        "    Cast -> Normalize\n",
        "\n",
        "  Args:\n",
        "    image: tf.Tensor as Integer\n",
        "    label: tf.Tensor as Integer\n",
        "  \n",
        "  Returns:\n",
        "    image: tf.Tensor as Float\n",
        "    label: tf.Tensor as Integer\n",
        "  \"\"\"\n",
        "\n",
        "  image = tf.cast(image, tf.float32) # 0...255\n",
        "  image = (image - 127.5) / 127.5 # -1...1\n",
        "  return image, label"
      ],
      "execution_count": 0,
      "outputs": []
    },
    {
      "cell_type": "code",
      "metadata": {
        "id": "z8ARF2VGwimg",
        "colab_type": "code",
        "colab": {}
      },
      "source": [
        "def preprocess(ds, shuffle=True, batch=True):\n",
        "  \"\"\"Preprocess dataset\n",
        "\n",
        "  Preprocess: \n",
        "    Normalize -> Shuffle -> Batch\n",
        "  \n",
        "  Args:\n",
        "    ds: tf.data.Dataset\n",
        "    shuffle: boolean\n",
        "    batch: boolean\n",
        "  \n",
        "  Returns:\n",
        "    ds: tf.data.Dataset\n",
        "  \"\"\"\n",
        "\n",
        "  ds = ds.map(normalize)\n",
        "  if shuffle: ds = ds.shuffle(shuffle_size)\n",
        "  if batch: ds = ds.batch(_BS, drop_remainder=True)\n",
        "  return ds"
      ],
      "execution_count": 0,
      "outputs": []
    },
    {
      "cell_type": "code",
      "metadata": {
        "id": "UGg346GHhlGn",
        "colab_type": "code",
        "colab": {}
      },
      "source": [
        "train = preprocess(train, shuffle=False)\n",
        "test = preprocess(test, shuffle=False)"
      ],
      "execution_count": 0,
      "outputs": []
    },
    {
      "cell_type": "markdown",
      "metadata": {
        "id": "_MPEQGQC0PMz",
        "colab_type": "text"
      },
      "source": [
        "### Visualize dataset"
      ]
    },
    {
      "cell_type": "code",
      "metadata": {
        "id": "_6kw0MiShwtF",
        "colab_type": "code",
        "colab": {}
      },
      "source": [
        "def visualize(ds):\n",
        "  \"\"\"Visualize dataset\n",
        "  \n",
        "  Args:\n",
        "    ds: tf.data.Dataset\n",
        "  \n",
        "  Returns:\n",
        "    fig: plt.figure\n",
        "  \"\"\"\n",
        "\n",
        "  ds = ds.unbatch()\n",
        "  fig = plt.figure(figsize=(16, 16))\n",
        "  i = 0\n",
        "  for example in ds.take(36):\n",
        "    fig.add_subplot(6, 6, i+1)\n",
        "    plt.imshow(tf.squeeze(example[0], -1), cmap='gray')\n",
        "    plt.axis('off')\n",
        "    i = i+1\n",
        "  plt.show()\n",
        "  return fig"
      ],
      "execution_count": 0,
      "outputs": []
    },
    {
      "cell_type": "code",
      "metadata": {
        "id": "K0J6DTi00QYn",
        "colab_type": "code",
        "outputId": "d72b2521-c296-46da-bc12-5fb79b25a064",
        "colab": {
          "base_uri": "https://localhost:8080/",
          "height": 1000
        }
      },
      "source": [
        "visualize(train)"
      ],
      "execution_count": 17,
      "outputs": [
        {
          "output_type": "display_data",
          "data": {
            "image/png": "[encoded data removed]",
            "text/plain": [
              "<Figure size 1152x1152 with 36 Axes>"
            ]
          },
          "metadata": {
            "tags": [],
            "needs_background": "light"
          }
        },
        {
          "output_type": "execute_result",
          "data": {
            "image/png": "[encoded data removed]",
            "text/plain": [
              "<Figure size 1152x1152 with 36 Axes>"
            ]
          },
          "metadata": {
            "tags": []
          },
          "execution_count": 17
        }
      ]
    },
    {
      "cell_type": "markdown",
      "metadata": {
        "id": "CldSQqmFJD8W",
        "colab_type": "text"
      },
      "source": [
        "## Model"
      ]
    },
    {
      "cell_type": "markdown",
      "metadata": {
        "id": "qDldTil11sjk",
        "colab_type": "text"
      },
      "source": [
        "*   Choose model\n",
        "*   Compile model\n",
        "*   Train model\n",
        "*   Evaluate model"
      ]
    },
    {
      "cell_type": "code",
      "metadata": {
        "id": "jPzROZau8FvF",
        "colab_type": "code",
        "colab": {}
      },
      "source": [
        "# Global model parameter\n",
        "_EPOCHS = 10 #@param {type:\"slider\", min:10, max:100, step:10}\n",
        "_LR = 1e-3 # Learning rate"
      ],
      "execution_count": 0,
      "outputs": []
    },
    {
      "cell_type": "code",
      "metadata": {
        "id": "x90hNh1AmGKJ",
        "colab_type": "code",
        "colab": {}
      },
      "source": [
        "_MODEL = {\n",
        "    'Epochs' : _EPOCHS,\n",
        "    'Learning rate' : _LR\n",
        "}"
      ],
      "execution_count": 0,
      "outputs": []
    },
    {
      "cell_type": "markdown",
      "metadata": {
        "id": "txpKZWzK78JT",
        "colab_type": "text"
      },
      "source": [
        "### Choose model"
      ]
    },
    {
      "cell_type": "markdown",
      "metadata": {
        "id": "Y-JBPskcwrUm",
        "colab_type": "text"
      },
      "source": [
        "#### Generator"
      ]
    },
    {
      "cell_type": "code",
      "metadata": {
        "id": "tQKP4letJcpt",
        "colab_type": "code",
        "colab": {}
      },
      "source": [
        "def get_generator():\n",
        "  \"\"\" Generator as faking model\n",
        "  \n",
        "  Architecture: Encoder-Decoder\n",
        "    Input -> Dense -> Reshape -> Convolution -> Normalization -> Activation ->\n",
        "    Inverse Convolution\n",
        "              \n",
        "  Returns:\n",
        "    keras.Model\n",
        "  \"\"\"\n",
        "\n",
        "  first = keras.Input(shape=(196, ))\n",
        "  layer = keras.layers.Dense(196)(first)\n",
        "  layer = keras.layers.Reshape((7, 7, 4))(layer)\n",
        "\n",
        "  for i in range(2):\n",
        "    layer = keras.layers.Conv2DTranspose(8*2**i, (3, 3), strides=2, padding='same')(layer)\n",
        "    layer = keras.layers.BatchNormalization()(layer)\n",
        "    layer = keras.layers.LeakyReLU()(layer)\n",
        "  \n",
        "  last = keras.layers.Conv2DTranspose(1, (3, 3), strides=1, padding='same', activation='tanh')(layer)\n",
        "\n",
        "  return keras.Model(inputs=first, outputs=last, name='Generator')"
      ],
      "execution_count": 0,
      "outputs": []
    },
    {
      "cell_type": "code",
      "metadata": {
        "id": "1Zy2VR6niD-v",
        "colab_type": "code",
        "colab": {
          "base_uri": "https://localhost:8080/",
          "height": 493
        },
        "outputId": "08a0e946-cc3d-4261-c5c0-dacc5a9adf5e"
      },
      "source": [
        "generator = get_generator()\n",
        "generator.summary()"
      ],
      "execution_count": 21,
      "outputs": [
        {
          "output_type": "stream",
          "text": [
            "Model: \"Generator\"\n",
            "_________________________________________________________________\n",
            "Layer (type)                 Output Shape              Param #   \n",
            "=================================================================\n",
            "input_1 (InputLayer)         [(None, 196)]             0         \n",
            "_________________________________________________________________\n",
            "dense (Dense)                (None, 196)               38612     \n",
            "_________________________________________________________________\n",
            "reshape (Reshape)            (None, 7, 7, 4)           0         \n",
            "_________________________________________________________________\n",
            "conv2d_transpose (Conv2DTran (None, 14, 14, 8)         296       \n",
            "_________________________________________________________________\n",
            "batch_normalization (BatchNo (None, 14, 14, 8)         32        \n",
            "_________________________________________________________________\n",
            "leaky_re_lu (LeakyReLU)      (None, 14, 14, 8)         0         \n",
            "_________________________________________________________________\n",
            "conv2d_transpose_1 (Conv2DTr (None, 28, 28, 16)        1168      \n",
            "_________________________________________________________________\n",
            "batch_normalization_1 (Batch (None, 28, 28, 16)        64        \n",
            "_________________________________________________________________\n",
            "leaky_re_lu_1 (LeakyReLU)    (None, 28, 28, 16)        0         \n",
            "_________________________________________________________________\n",
            "conv2d_transpose_2 (Conv2DTr (None, 28, 28, 1)         145       \n",
            "=================================================================\n",
            "Total params: 40,317\n",
            "Trainable params: 40,269\n",
            "Non-trainable params: 48\n",
            "_________________________________________________________________\n"
          ],
          "name": "stdout"
        }
      ]
    },
    {
      "cell_type": "markdown",
      "metadata": {
        "id": "cCucjQ_PwxLf",
        "colab_type": "text"
      },
      "source": [
        "#### Discriminator"
      ]
    },
    {
      "cell_type": "code",
      "metadata": {
        "id": "oYsDpECFwxPa",
        "colab_type": "code",
        "colab": {}
      },
      "source": [
        "def get_discriminator():\n",
        "  \"\"\" Discriminator as expertise model\n",
        "  \n",
        "  Architecture: Encoder\n",
        "    Input -> Convolution -> Normalization -> Activation -> Flatten -> Dense\n",
        "              \n",
        "  Returns:\n",
        "    keras.Model\n",
        "  \"\"\"\n",
        "\n",
        "  first = keras.Input(shape=_SHAPE)\n",
        "  layer = first\n",
        "\n",
        "  for i in reversed(range(2)):\n",
        "    layer = keras.layers.Conv2D(8*2**i, (3, 3), strides=2, padding='same')(layer)\n",
        "    layer = keras.layers.BatchNormalization()(layer)\n",
        "    layer = keras.layers.LeakyReLU()(layer)\n",
        "\n",
        "  layer = keras.layers.Flatten()(layer)\n",
        "  layer = keras.layers.Dense(98)(layer)\n",
        "  last = keras.layers.Dense(1)(layer)\n",
        "\n",
        "  return keras.Model(inputs=first, outputs=last, name='Discriminator')"
      ],
      "execution_count": 0,
      "outputs": []
    },
    {
      "cell_type": "code",
      "metadata": {
        "id": "Xy0xr0dSmC_1",
        "colab_type": "code",
        "outputId": "093648a7-cc8f-4d3f-850c-bc583cc2eae6",
        "colab": {
          "base_uri": "https://localhost:8080/",
          "height": 493
        }
      },
      "source": [
        "discriminator = get_discriminator()\n",
        "discriminator.summary()"
      ],
      "execution_count": 23,
      "outputs": [
        {
          "output_type": "stream",
          "text": [
            "Model: \"Discriminator\"\n",
            "_________________________________________________________________\n",
            "Layer (type)                 Output Shape              Param #   \n",
            "=================================================================\n",
            "input_2 (InputLayer)         [(None, 28, 28, 1)]       0         \n",
            "_________________________________________________________________\n",
            "conv2d (Conv2D)              (None, 14, 14, 16)        160       \n",
            "_________________________________________________________________\n",
            "batch_normalization_2 (Batch (None, 14, 14, 16)        64        \n",
            "_________________________________________________________________\n",
            "leaky_re_lu_2 (LeakyReLU)    (None, 14, 14, 16)        0         \n",
            "_________________________________________________________________\n",
            "conv2d_1 (Conv2D)            (None, 7, 7, 8)           1160      \n",
            "_________________________________________________________________\n",
            "batch_normalization_3 (Batch (None, 7, 7, 8)           32        \n",
            "_________________________________________________________________\n",
            "leaky_re_lu_3 (LeakyReLU)    (None, 7, 7, 8)           0         \n",
            "_________________________________________________________________\n",
            "flatten (Flatten)            (None, 392)               0         \n",
            "_________________________________________________________________\n",
            "dense_1 (Dense)              (None, 98)                38514     \n",
            "_________________________________________________________________\n",
            "dense_2 (Dense)              (None, 1)                 99        \n",
            "=================================================================\n",
            "Total params: 40,029\n",
            "Trainable params: 39,981\n",
            "Non-trainable params: 48\n",
            "_________________________________________________________________\n"
          ],
          "name": "stdout"
        }
      ]
    },
    {
      "cell_type": "markdown",
      "metadata": {
        "id": "GLBusJTjw1KQ",
        "colab_type": "text"
      },
      "source": [
        "### Compile model"
      ]
    },
    {
      "cell_type": "code",
      "metadata": {
        "id": "NUbju1Tpw1qx",
        "colab_type": "code",
        "colab": {}
      },
      "source": [
        "def objective():\n",
        "  \"\"\"Binary crossentropy objective function\n",
        "  \n",
        "  Returns:\n",
        "    keras.losses \n",
        "  \"\"\"\n",
        "\n",
        "  return keras.losses.BinaryCrossentropy(from_logits=True)"
      ],
      "execution_count": 0,
      "outputs": []
    },
    {
      "cell_type": "code",
      "metadata": {
        "id": "LcgE2Mh8E6Os",
        "colab_type": "code",
        "colab": {}
      },
      "source": [
        "def generator_loss(fake_output):\n",
        "  \"\"\"Generator loss\n",
        "  \n",
        "  Returns:\n",
        "    generator_loss: tf.Tensor as Float\n",
        "  \"\"\"\n",
        "\n",
        "  generator_loss = loss_fn(tf.ones_like(fake_output), fake_output)\n",
        "  return generator_loss"
      ],
      "execution_count": 0,
      "outputs": []
    },
    {
      "cell_type": "code",
      "metadata": {
        "id": "0iZ-QZOME6WF",
        "colab_type": "code",
        "colab": {}
      },
      "source": [
        "def discriminator_loss(real_output, fake_output):\n",
        "  \"\"\"Discriminator loss\n",
        "  \n",
        "  Returns:\n",
        "    discriminator_loss: tf.Tensor as Float\n",
        "    loss_quotient: tf.Tensor as Float\n",
        "  \"\"\"\n",
        "\n",
        "  real_loss = loss_fn(tf.ones_like(real_output), real_output)\n",
        "  fake_loss = loss_fn(tf.zeros_like(fake_output), fake_output)\n",
        "  discriminator_loss = real_loss + fake_loss\n",
        "  loss_quotient = real_loss / fake_loss\n",
        "  return discriminator_loss, loss_quotient"
      ],
      "execution_count": 0,
      "outputs": []
    },
    {
      "cell_type": "code",
      "metadata": {
        "id": "pXyDCvJOFI0W",
        "colab_type": "code",
        "colab": {}
      },
      "source": [
        "def optimizer(learning_rate):\n",
        "  \"\"\"Adam optimizer with exponential decay, as learning rate decreases over time\n",
        "  \n",
        "  Args:\n",
        "    learning_rate: tf.float32\n",
        "  \n",
        "  Returns:\n",
        "    keras.optimizer\n",
        "  \"\"\"\n",
        "  \n",
        "  schedule = keras.optimizers.schedules.ExponentialDecay(\n",
        "      learning_rate,\n",
        "      decay_steps=10,\n",
        "      decay_rate=0.96)\n",
        "\n",
        "  return tf.keras.optimizers.Adam(schedule)"
      ],
      "execution_count": 0,
      "outputs": []
    },
    {
      "cell_type": "code",
      "metadata": {
        "id": "JTYqvAWyiTMz",
        "colab_type": "code",
        "colab": {}
      },
      "source": [
        "loss_fn = objective()"
      ],
      "execution_count": 0,
      "outputs": []
    },
    {
      "cell_type": "markdown",
      "metadata": {
        "id": "yAHJU6Gww3_X",
        "colab_type": "text"
      },
      "source": [
        "### Train model"
      ]
    },
    {
      "cell_type": "code",
      "metadata": {
        "id": "ZlbeBpOBw6Ve",
        "colab_type": "code",
        "colab": {}
      },
      "source": [
        "def train_step(images, noise, metrics):\n",
        "  \"\"\"Train step\n",
        "  \n",
        "  Step:\n",
        "    Generate fake images -> Update evaluation metrics -> Let Discriminator\n",
        "    classify -> Compute losses -> Update loss metrics -> Compute gradients ->\n",
        "    Apply gradients\n",
        "\n",
        "  Args:\n",
        "    images: tf.Tensor as Float\n",
        "      Real data distribution\n",
        "    noise: tf.Tensor as Float\n",
        "      Imaginary data distribution\n",
        "  \"\"\"\n",
        "\n",
        "  with tf.GradientTape() as gen_tape, tf.GradientTape() as disc_tape:\n",
        "\n",
        "    generated_images = generator(noise, training=True)\n",
        "\n",
        "    metrics['eval/kld'].update_state(images, generated_images)\n",
        "    metrics['eval/mse'].update_state(images, generated_images)\n",
        "    \n",
        "    real_output = discriminator(images, training=True)\n",
        "    fake_output = discriminator(generated_images, training=True)\n",
        "\n",
        "    gen_loss = generator_loss(fake_output)\n",
        "    metrics['loss/generator'].update_state(gen_loss)\n",
        "    disc_loss, realVSfake = discriminator_loss(real_output, fake_output)\n",
        "    metrics['loss/discriminator'].update_state(disc_loss)\n",
        "    metrics['loss/realVSfake'].update_state(realVSfake)\n",
        "\n",
        "  gradients_of_generator = gen_tape.gradient(gen_loss, generator.trainable_variables)\n",
        "  gradients_of_discriminator = disc_tape.gradient(disc_loss, discriminator.trainable_variables)\n",
        "\n",
        "  optimizer(learning_rate=_LR).apply_gradients(zip(gradients_of_generator, generator.trainable_variables))\n",
        "  optimizer(learning_rate=_LR).apply_gradients(zip(gradients_of_discriminator, discriminator.trainable_variables))"
      ],
      "execution_count": 0,
      "outputs": []
    },
    {
      "cell_type": "code",
      "metadata": {
        "id": "zI70WA96FieX",
        "colab_type": "code",
        "colab": {}
      },
      "source": [
        "def train_model(dataset):\n",
        "  \"\"\"Train model\n",
        "  \n",
        "  Train:\n",
        "    Iterate over epochs -> Iterate over batches -> Train step per batch ->\n",
        "    Save (and reset) metrics\n",
        "\n",
        "  Args:\n",
        "    images: tf.data.Dataset\n",
        "  \"\"\"\n",
        "  \n",
        "  check_env()\n",
        "  logging = get_logs()\n",
        "  metrics = get_metrics()\n",
        "  start = timer()\n",
        "\n",
        "  print('\\nEpoch\\tGEN\\tDIS\\tRvsF\\tKLD\\tMSE\\tElapsed\\tETA')\n",
        "\n",
        "  for epoch in range(1, _EPOCHS+1): # Iterate over epochs\n",
        "\n",
        "    epoch_start = timer()\n",
        "    output = [epoch, _EPOCHS] \n",
        "\n",
        "    for batch in dataset: # Iterate over batches\n",
        "      image_batch = batch[0]\n",
        "      noise = tf.random.normal([_BS, 196])\n",
        "      train_step(image_batch, noise, metrics)\n",
        "\n",
        "    with logging.as_default(): # Save (and reset) metrics\n",
        "      tf.summary.histogram('input/noise', noise[-1], step=epoch)\n",
        "      tf.summary.image('output/digit', generator(tf.expand_dims(noise[-1], 0), training=False), step=epoch)\n",
        "      tf.summary.scalar('optimizer/lr', optimizer(learning_rate=_LR).lr(epoch), step=epoch)\n",
        "\n",
        "      for key, metric in metrics.items(): # Loss metrics\n",
        "        tf.summary.scalar(key, metric.result(), step=epoch)\n",
        "        output.append(metric.result().numpy())\n",
        "        metric.reset_states()\n",
        "\n",
        "    output.append((timer()-start)/60)\n",
        "    output.append(((timer()-epoch_start) * (_EPOCHS-epoch))/60)\n",
        "    print('%i/%i\\t%.3f\\t%.3f\\t%.3f\\t%.3f\\t%.3f\\t%.1f m\\t%.1f m' % tuple(output))"
      ],
      "execution_count": 0,
      "outputs": []
    },
    {
      "cell_type": "code",
      "metadata": {
        "id": "9xc5aTKAipd3",
        "colab_type": "code",
        "colab": {
          "base_uri": "https://localhost:8080/",
          "height": 391
        },
        "outputId": "af4835ca-093f-467e-ad46-64c2a7b87745"
      },
      "source": [
        "train_model(train)"
      ],
      "execution_count": 31,
      "outputs": [
        {
          "output_type": "stream",
          "text": [
            "WARNING: Running on GPU. Ressources may be temporarly blocked...\n",
            "\n",
            "INFO: Logs will be written to logs/2020-06-08 \n",
            "\n",
            "INFO: 5 metrics to measure including...\n",
            "loss/generator\n",
            "loss/discriminator\n",
            "loss/realVSfake\n",
            "eval/kld\n",
            "eval/mse\n",
            "\n",
            "Epoch\tGEN\tDIS\tRvsF\tKLD\tMSE\tElapsed\tETA\n",
            "1/10\t1.967\t1.432\t2.012\t1.130\t0.551\t88.4 s\t13.3 m\n",
            "2/10\t0.832\t1.342\t1.313\t1.082\t0.547\t171.3 s\t11.1 m\n",
            "3/10\t0.821\t1.328\t1.244\t1.076\t0.546\t254.7 s\t9.7 m\n",
            "4/10\t0.807\t1.335\t1.196\t1.068\t0.534\t337.6 s\t8.3 m\n",
            "5/10\t0.827\t1.317\t1.198\t1.063\t0.530\t420.4 s\t6.9 m\n",
            "6/10\t0.829\t1.312\t1.187\t1.058\t0.535\t503.6 s\t5.5 m\n",
            "7/10\t0.880\t1.285\t1.285\t1.058\t0.533\t587.3 s\t4.2 m\n",
            "8/10\t0.911\t1.256\t1.324\t1.058\t0.535\t670.3 s\t2.8 m\n",
            "9/10\t0.928\t1.249\t1.344\t1.052\t0.536\t753.4 s\t1.4 m\n",
            "10/10\t0.950\t1.244\t1.366\t1.058\t0.534\t837.1 s\t0.0 m\n"
          ],
          "name": "stdout"
        }
      ]
    },
    {
      "cell_type": "markdown",
      "metadata": {
        "id": "sX7VmiqCCQs2",
        "colab_type": "text"
      },
      "source": [
        "### Evaluate model"
      ]
    },
    {
      "cell_type": "code",
      "metadata": {
        "id": "DFH6aAMFeODN",
        "colab_type": "code",
        "colab": {}
      },
      "source": [
        "board = False #@param [\"False\", \"True\"] {type:\"raw\"}\n",
        "if board: # Visualize metrics in TensorBoard\n",
        "  %tensorboard --logdir logs/"
      ],
      "execution_count": 0,
      "outputs": []
    },
    {
      "cell_type": "markdown",
      "metadata": {
        "id": "i_J1Iu__JEDt",
        "colab_type": "text"
      },
      "source": [
        "## Deployment\n"
      ]
    },
    {
      "cell_type": "markdown",
      "metadata": {
        "id": "HULsCxRlnRJ0",
        "colab_type": "text"
      },
      "source": [
        "*   Use model\n",
        "*   Export model\n",
        "*   Export metadata"
      ]
    },
    {
      "cell_type": "code",
      "metadata": {
        "id": "5mhmgmgKWyfm",
        "colab_type": "code",
        "colab": {}
      },
      "source": [
        "# Global deployment parameter"
      ],
      "execution_count": 0,
      "outputs": []
    },
    {
      "cell_type": "code",
      "metadata": {
        "id": "J2TDGoLxmqPc",
        "colab_type": "code",
        "colab": {}
      },
      "source": [
        "_DEPLOYMENT = {\n",
        "}"
      ],
      "execution_count": 0,
      "outputs": []
    },
    {
      "cell_type": "markdown",
      "metadata": {
        "id": "xOuWLAxW6r4C",
        "colab_type": "text"
      },
      "source": [
        "### Use model"
      ]
    },
    {
      "cell_type": "code",
      "metadata": {
        "id": "8A_PcOvH6P5X",
        "colab_type": "code",
        "colab": {}
      },
      "source": [
        "def predict():\n",
        "  \"\"\" Generate digits\n",
        "\n",
        "  Predict:\n",
        "    Prediction -> Visualization \n",
        "\n",
        "  Returns:\n",
        "    plt.fig\n",
        "  \"\"\"\n",
        "\n",
        "  fig = plt.figure(figsize=(16, 16))\n",
        "\n",
        "  for i in range(36): # Generate 36 digits\n",
        "    fig.add_subplot(6, 6, i+1)\n",
        "  \n",
        "    # Prediction\n",
        "    noise = tf.random.normal([1, 196]) # (BS, 196)\n",
        "    prediction = generator(noise, training=False) # (BS, 28, 28, 1)\n",
        "\n",
        "    # Visualization\n",
        "    prediction = tf.squeeze(prediction, 0) # (28, 28, 1)\n",
        "    plt.imshow(tf.squeeze(prediction, -1), cmap='gray') # (28, 28)\n",
        "    plt.axis('off')\n",
        "\n",
        "  plt.show()\n",
        "  return fig"
      ],
      "execution_count": 0,
      "outputs": []
    },
    {
      "cell_type": "code",
      "metadata": {
        "id": "BqGoOQHukOnV",
        "colab_type": "code",
        "colab": {
          "base_uri": "https://localhost:8080/",
          "height": 1000
        },
        "outputId": "17450225-bc7a-4109-e7dd-5aa22a7afde3"
      },
      "source": [
        "predict()"
      ],
      "execution_count": 36,
      "outputs": [
        {
          "output_type": "display_data",
          "data": {
            "image/png": "[encoded data removed]",
            "text/plain": [
              "<Figure size 1152x1152 with 36 Axes>"
            ]
          },
          "metadata": {
            "tags": [],
            "needs_background": "light"
          }
        },
        {
          "output_type": "execute_result",
          "data": {
            "image/png": "[encoded data removed]",
            "text/plain": [
              "<Figure size 1152x1152 with 36 Axes>"
            ]
          },
          "metadata": {
            "tags": []
          },
          "execution_count": 36
        }
      ]
    },
    {
      "cell_type": "markdown",
      "metadata": {
        "id": "lHKC9GAFQgd6",
        "colab_type": "text"
      },
      "source": [
        "### Export model"
      ]
    },
    {
      "cell_type": "code",
      "metadata": {
        "id": "6pgQod11SZxX",
        "colab_type": "code",
        "colab": {}
      },
      "source": [
        "export = False #@param [\"False\", \"True\"] {type:\"raw\"}\n",
        "if export: # Export model\n",
        "  model.save('./generator.h5')"
      ],
      "execution_count": 0,
      "outputs": []
    },
    {
      "cell_type": "markdown",
      "metadata": {
        "id": "YcQJdFGikSi_",
        "colab_type": "text"
      },
      "source": [
        "### Export metadata"
      ]
    },
    {
      "cell_type": "code",
      "metadata": {
        "id": "q9ZeEwUDm2dN",
        "colab_type": "code",
        "colab": {}
      },
      "source": [
        "def print_parameter(parameter, domain):\n",
        "  print(domain, 'domain:')\n",
        "  for key, value in parameter.items(): \n",
        "    print(key, '=', value)\n",
        "  print('')"
      ],
      "execution_count": 0,
      "outputs": []
    },
    {
      "cell_type": "code",
      "metadata": {
        "id": "P3xEGlOJnBtp",
        "colab_type": "code",
        "colab": {
          "base_uri": "https://localhost:8080/",
          "height": 204
        },
        "outputId": "15ecf2ab-b865-4757-808c-80112984989b"
      },
      "source": [
        "print_parameter(_DATA, 'Data')\n",
        "print_parameter(_MODEL, 'Model')\n",
        "print_parameter(_DEPLOYMENT, 'Deployment')"
      ],
      "execution_count": 42,
      "outputs": [
        {
          "output_type": "stream",
          "text": [
            "Data domain:\n",
            "Batch size = 64\n",
            "Image dimension = 28\n",
            "Image shape = (28, 28, 1)\n",
            "\n",
            "Model domain:\n",
            "Epochs = 10\n",
            "Learning rate = 0.001\n",
            "\n",
            "Deployment domain:\n",
            "\n"
          ],
          "name": "stdout"
        }
      ]
    },
    {
      "cell_type": "code",
      "metadata": {
        "id": "w8iC6P6h4ldh",
        "colab_type": "code",
        "colab": {}
      },
      "source": [
        "upload = False #@param [\"False\", \"True\"] {type:\"raw\"}\n",
        "if upload:\n",
        "  !tensorboard dev upload --logdir logs \\\n",
        "      --name \"IntSys19\" \\\n",
        "      --description \"Intelligent Systems\""
      ],
      "execution_count": 0,
      "outputs": []
    }
  ]
}